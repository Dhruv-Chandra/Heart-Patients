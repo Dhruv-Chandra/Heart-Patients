{
 "cells": [
  {
   "cell_type": "markdown",
   "metadata": {},
   "source": [
    "## Introduction to the dataset\n",
    "\n",
    "- World Health Organization has  estimated 12 million deaths occur worldwide, every year due to Heart diseases.\n",
    "\n",
    "- Half the deaths in the United States and other developed countries are due to cardio vascular diseases. \n",
    "\n",
    "- The early prognosis of cardiovascular diseases can aid in making decisions on lifestyle changes in high risk patients and in turn reduce the complications.\n",
    "\n",
    "- This research intends to pinpoint the most relevant/risk factors of heart disease as well as predict the overall risk using logistic regression.\n"
   ]
  },
  {
   "cell_type": "code",
   "execution_count": 84,
   "metadata": {},
   "outputs": [],
   "source": [
    "import pandas as pd\n",
    "import math\n",
    "import numpy as np\n",
    "import statsmodels.api as sm\n",
    "from statsmodels.tools import add_constant as ac\n",
    "import scipy.stats as st\n",
    "import matplotlib.pyplot as plt\n",
    "from sklearn.metrics import confusion_matrix, precision_score, recall_score, f1_score, roc_auc_score, accuracy_score, classification_report,  mean_squared_error, ConfusionMatrixDisplay\n",
    "import seaborn as sns\n",
    "from sklearn.preprocessing import StandardScaler, LabelEncoder, Binarizer\n",
    "sc = StandardScaler()\n",
    "le = LabelEncoder()\n",
    "\n",
    "from sklearn.model_selection import train_test_split, KFold, StratifiedKFold, GridSearchCV, cross_val_score\n",
    "from sklearn.linear_model import LogisticRegression\n",
    "from sklearn.pipeline import make_pipeline\n",
    "from imblearn.pipeline import make_pipeline as imbalanced_make_pipeline\n",
    "from imblearn.pipeline import Pipeline as imbpipeline\n",
    "from imblearn.over_sampling import SMOTE\n",
    "from imblearn.under_sampling import NearMiss\n",
    "from collections import Counter\n",
    "from sklearn.ensemble import RandomForestRegressor, RandomForestClassifier\n",
    "from sklearn.tree import DecisionTreeClassifier\n",
    "from sklearn.neighbors import KNeighborsClassifier\n",
    "rfr = RandomForestRegressor()\n",
    "rfc = RandomForestClassifier()\n",
    "import warnings\n",
    "warnings.filterwarnings('ignore')"
   ]
  },
  {
   "cell_type": "code",
   "execution_count": 85,
   "metadata": {},
   "outputs": [
    {
     "data": {
      "text/html": [
       "<div>\n",
       "<style scoped>\n",
       "    .dataframe tbody tr th:only-of-type {\n",
       "        vertical-align: middle;\n",
       "    }\n",
       "\n",
       "    .dataframe tbody tr th {\n",
       "        vertical-align: top;\n",
       "    }\n",
       "\n",
       "    .dataframe thead th {\n",
       "        text-align: right;\n",
       "    }\n",
       "</style>\n",
       "<table border=\"1\" class=\"dataframe\">\n",
       "  <thead>\n",
       "    <tr style=\"text-align: right;\">\n",
       "      <th></th>\n",
       "      <th>male</th>\n",
       "      <th>age</th>\n",
       "      <th>education</th>\n",
       "      <th>currentSmoker</th>\n",
       "      <th>cigsPerDay</th>\n",
       "      <th>BPMeds</th>\n",
       "      <th>prevalentStroke</th>\n",
       "      <th>prevalentHyp</th>\n",
       "      <th>diabetes</th>\n",
       "      <th>totChol</th>\n",
       "      <th>sysBP</th>\n",
       "      <th>diaBP</th>\n",
       "      <th>BMI</th>\n",
       "      <th>heartRate</th>\n",
       "      <th>glucose</th>\n",
       "      <th>TenYearCHD</th>\n",
       "    </tr>\n",
       "  </thead>\n",
       "  <tbody>\n",
       "    <tr>\n",
       "      <th>0</th>\n",
       "      <td>1</td>\n",
       "      <td>39</td>\n",
       "      <td>4.0</td>\n",
       "      <td>0</td>\n",
       "      <td>0.0</td>\n",
       "      <td>0.0</td>\n",
       "      <td>0</td>\n",
       "      <td>0</td>\n",
       "      <td>0</td>\n",
       "      <td>195.0</td>\n",
       "      <td>106.0</td>\n",
       "      <td>70.0</td>\n",
       "      <td>26.97</td>\n",
       "      <td>80.0</td>\n",
       "      <td>77.0</td>\n",
       "      <td>0</td>\n",
       "    </tr>\n",
       "    <tr>\n",
       "      <th>1</th>\n",
       "      <td>0</td>\n",
       "      <td>46</td>\n",
       "      <td>2.0</td>\n",
       "      <td>0</td>\n",
       "      <td>0.0</td>\n",
       "      <td>0.0</td>\n",
       "      <td>0</td>\n",
       "      <td>0</td>\n",
       "      <td>0</td>\n",
       "      <td>250.0</td>\n",
       "      <td>121.0</td>\n",
       "      <td>81.0</td>\n",
       "      <td>28.73</td>\n",
       "      <td>95.0</td>\n",
       "      <td>76.0</td>\n",
       "      <td>0</td>\n",
       "    </tr>\n",
       "    <tr>\n",
       "      <th>2</th>\n",
       "      <td>1</td>\n",
       "      <td>48</td>\n",
       "      <td>1.0</td>\n",
       "      <td>1</td>\n",
       "      <td>20.0</td>\n",
       "      <td>0.0</td>\n",
       "      <td>0</td>\n",
       "      <td>0</td>\n",
       "      <td>0</td>\n",
       "      <td>245.0</td>\n",
       "      <td>127.5</td>\n",
       "      <td>80.0</td>\n",
       "      <td>25.34</td>\n",
       "      <td>75.0</td>\n",
       "      <td>70.0</td>\n",
       "      <td>0</td>\n",
       "    </tr>\n",
       "    <tr>\n",
       "      <th>3</th>\n",
       "      <td>0</td>\n",
       "      <td>61</td>\n",
       "      <td>3.0</td>\n",
       "      <td>1</td>\n",
       "      <td>30.0</td>\n",
       "      <td>0.0</td>\n",
       "      <td>0</td>\n",
       "      <td>1</td>\n",
       "      <td>0</td>\n",
       "      <td>225.0</td>\n",
       "      <td>150.0</td>\n",
       "      <td>95.0</td>\n",
       "      <td>28.58</td>\n",
       "      <td>65.0</td>\n",
       "      <td>103.0</td>\n",
       "      <td>1</td>\n",
       "    </tr>\n",
       "    <tr>\n",
       "      <th>4</th>\n",
       "      <td>0</td>\n",
       "      <td>46</td>\n",
       "      <td>3.0</td>\n",
       "      <td>1</td>\n",
       "      <td>23.0</td>\n",
       "      <td>0.0</td>\n",
       "      <td>0</td>\n",
       "      <td>0</td>\n",
       "      <td>0</td>\n",
       "      <td>285.0</td>\n",
       "      <td>130.0</td>\n",
       "      <td>84.0</td>\n",
       "      <td>23.10</td>\n",
       "      <td>85.0</td>\n",
       "      <td>85.0</td>\n",
       "      <td>0</td>\n",
       "    </tr>\n",
       "  </tbody>\n",
       "</table>\n",
       "</div>"
      ],
      "text/plain": [
       "   male  age  education  currentSmoker  cigsPerDay  BPMeds  prevalentStroke  \\\n",
       "0     1   39        4.0              0         0.0     0.0                0   \n",
       "1     0   46        2.0              0         0.0     0.0                0   \n",
       "2     1   48        1.0              1        20.0     0.0                0   \n",
       "3     0   61        3.0              1        30.0     0.0                0   \n",
       "4     0   46        3.0              1        23.0     0.0                0   \n",
       "\n",
       "   prevalentHyp  diabetes  totChol  sysBP  diaBP    BMI  heartRate  glucose  \\\n",
       "0             0         0    195.0  106.0   70.0  26.97       80.0     77.0   \n",
       "1             0         0    250.0  121.0   81.0  28.73       95.0     76.0   \n",
       "2             0         0    245.0  127.5   80.0  25.34       75.0     70.0   \n",
       "3             1         0    225.0  150.0   95.0  28.58       65.0    103.0   \n",
       "4             0         0    285.0  130.0   84.0  23.10       85.0     85.0   \n",
       "\n",
       "   TenYearCHD  \n",
       "0           0  \n",
       "1           0  \n",
       "2           0  \n",
       "3           1  \n",
       "4           0  "
      ]
     },
     "execution_count": 85,
     "metadata": {},
     "output_type": "execute_result"
    }
   ],
   "source": [
    "# Test\n",
    "dfp = pd.read_csv('US_Heart_Patients.csv')\n",
    "dfp.head()"
   ]
  },
  {
   "cell_type": "code",
   "execution_count": 86,
   "metadata": {},
   "outputs": [
    {
     "data": {
      "text/plain": [
       "(4240, 16)"
      ]
     },
     "execution_count": 86,
     "metadata": {},
     "output_type": "execute_result"
    }
   ],
   "source": [
    "dfp.shape"
   ]
  },
  {
   "cell_type": "code",
   "execution_count": 87,
   "metadata": {},
   "outputs": [],
   "source": [
    "target_var = 'TenYearCHD'"
   ]
  },
  {
   "cell_type": "code",
   "execution_count": 88,
   "metadata": {},
   "outputs": [
    {
     "data": {
      "text/html": [
       "<div>\n",
       "<style scoped>\n",
       "    .dataframe tbody tr th:only-of-type {\n",
       "        vertical-align: middle;\n",
       "    }\n",
       "\n",
       "    .dataframe tbody tr th {\n",
       "        vertical-align: top;\n",
       "    }\n",
       "\n",
       "    .dataframe thead th {\n",
       "        text-align: right;\n",
       "    }\n",
       "</style>\n",
       "<table border=\"1\" class=\"dataframe\">\n",
       "  <thead>\n",
       "    <tr style=\"text-align: right;\">\n",
       "      <th></th>\n",
       "      <th>count</th>\n",
       "      <th>mean</th>\n",
       "      <th>std</th>\n",
       "      <th>min</th>\n",
       "      <th>25%</th>\n",
       "      <th>50%</th>\n",
       "      <th>75%</th>\n",
       "      <th>max</th>\n",
       "    </tr>\n",
       "  </thead>\n",
       "  <tbody>\n",
       "    <tr>\n",
       "      <th>male</th>\n",
       "      <td>4240.0</td>\n",
       "      <td>0.429245</td>\n",
       "      <td>0.495027</td>\n",
       "      <td>0.00</td>\n",
       "      <td>0.00</td>\n",
       "      <td>0.0</td>\n",
       "      <td>1.00</td>\n",
       "      <td>1.0</td>\n",
       "    </tr>\n",
       "    <tr>\n",
       "      <th>age</th>\n",
       "      <td>4240.0</td>\n",
       "      <td>49.580189</td>\n",
       "      <td>8.572942</td>\n",
       "      <td>32.00</td>\n",
       "      <td>42.00</td>\n",
       "      <td>49.0</td>\n",
       "      <td>56.00</td>\n",
       "      <td>70.0</td>\n",
       "    </tr>\n",
       "    <tr>\n",
       "      <th>education</th>\n",
       "      <td>4135.0</td>\n",
       "      <td>1.979444</td>\n",
       "      <td>1.019791</td>\n",
       "      <td>1.00</td>\n",
       "      <td>1.00</td>\n",
       "      <td>2.0</td>\n",
       "      <td>3.00</td>\n",
       "      <td>4.0</td>\n",
       "    </tr>\n",
       "    <tr>\n",
       "      <th>currentSmoker</th>\n",
       "      <td>4240.0</td>\n",
       "      <td>0.494104</td>\n",
       "      <td>0.500024</td>\n",
       "      <td>0.00</td>\n",
       "      <td>0.00</td>\n",
       "      <td>0.0</td>\n",
       "      <td>1.00</td>\n",
       "      <td>1.0</td>\n",
       "    </tr>\n",
       "    <tr>\n",
       "      <th>cigsPerDay</th>\n",
       "      <td>4211.0</td>\n",
       "      <td>9.005937</td>\n",
       "      <td>11.922462</td>\n",
       "      <td>0.00</td>\n",
       "      <td>0.00</td>\n",
       "      <td>0.0</td>\n",
       "      <td>20.00</td>\n",
       "      <td>70.0</td>\n",
       "    </tr>\n",
       "    <tr>\n",
       "      <th>BPMeds</th>\n",
       "      <td>4187.0</td>\n",
       "      <td>0.029615</td>\n",
       "      <td>0.169544</td>\n",
       "      <td>0.00</td>\n",
       "      <td>0.00</td>\n",
       "      <td>0.0</td>\n",
       "      <td>0.00</td>\n",
       "      <td>1.0</td>\n",
       "    </tr>\n",
       "    <tr>\n",
       "      <th>prevalentStroke</th>\n",
       "      <td>4240.0</td>\n",
       "      <td>0.005896</td>\n",
       "      <td>0.076569</td>\n",
       "      <td>0.00</td>\n",
       "      <td>0.00</td>\n",
       "      <td>0.0</td>\n",
       "      <td>0.00</td>\n",
       "      <td>1.0</td>\n",
       "    </tr>\n",
       "    <tr>\n",
       "      <th>prevalentHyp</th>\n",
       "      <td>4240.0</td>\n",
       "      <td>0.310613</td>\n",
       "      <td>0.462799</td>\n",
       "      <td>0.00</td>\n",
       "      <td>0.00</td>\n",
       "      <td>0.0</td>\n",
       "      <td>1.00</td>\n",
       "      <td>1.0</td>\n",
       "    </tr>\n",
       "    <tr>\n",
       "      <th>diabetes</th>\n",
       "      <td>4240.0</td>\n",
       "      <td>0.025708</td>\n",
       "      <td>0.158280</td>\n",
       "      <td>0.00</td>\n",
       "      <td>0.00</td>\n",
       "      <td>0.0</td>\n",
       "      <td>0.00</td>\n",
       "      <td>1.0</td>\n",
       "    </tr>\n",
       "    <tr>\n",
       "      <th>totChol</th>\n",
       "      <td>4190.0</td>\n",
       "      <td>236.699523</td>\n",
       "      <td>44.591284</td>\n",
       "      <td>107.00</td>\n",
       "      <td>206.00</td>\n",
       "      <td>234.0</td>\n",
       "      <td>263.00</td>\n",
       "      <td>696.0</td>\n",
       "    </tr>\n",
       "    <tr>\n",
       "      <th>sysBP</th>\n",
       "      <td>4240.0</td>\n",
       "      <td>132.354599</td>\n",
       "      <td>22.033300</td>\n",
       "      <td>83.50</td>\n",
       "      <td>117.00</td>\n",
       "      <td>128.0</td>\n",
       "      <td>144.00</td>\n",
       "      <td>295.0</td>\n",
       "    </tr>\n",
       "    <tr>\n",
       "      <th>diaBP</th>\n",
       "      <td>4240.0</td>\n",
       "      <td>82.897759</td>\n",
       "      <td>11.910394</td>\n",
       "      <td>48.00</td>\n",
       "      <td>75.00</td>\n",
       "      <td>82.0</td>\n",
       "      <td>90.00</td>\n",
       "      <td>142.5</td>\n",
       "    </tr>\n",
       "    <tr>\n",
       "      <th>BMI</th>\n",
       "      <td>4221.0</td>\n",
       "      <td>25.800801</td>\n",
       "      <td>4.079840</td>\n",
       "      <td>15.54</td>\n",
       "      <td>23.07</td>\n",
       "      <td>25.4</td>\n",
       "      <td>28.04</td>\n",
       "      <td>56.8</td>\n",
       "    </tr>\n",
       "    <tr>\n",
       "      <th>heartRate</th>\n",
       "      <td>4239.0</td>\n",
       "      <td>75.878981</td>\n",
       "      <td>12.025348</td>\n",
       "      <td>44.00</td>\n",
       "      <td>68.00</td>\n",
       "      <td>75.0</td>\n",
       "      <td>83.00</td>\n",
       "      <td>143.0</td>\n",
       "    </tr>\n",
       "    <tr>\n",
       "      <th>glucose</th>\n",
       "      <td>3852.0</td>\n",
       "      <td>81.963655</td>\n",
       "      <td>23.954335</td>\n",
       "      <td>40.00</td>\n",
       "      <td>71.00</td>\n",
       "      <td>78.0</td>\n",
       "      <td>87.00</td>\n",
       "      <td>394.0</td>\n",
       "    </tr>\n",
       "    <tr>\n",
       "      <th>TenYearCHD</th>\n",
       "      <td>4240.0</td>\n",
       "      <td>0.151887</td>\n",
       "      <td>0.358953</td>\n",
       "      <td>0.00</td>\n",
       "      <td>0.00</td>\n",
       "      <td>0.0</td>\n",
       "      <td>0.00</td>\n",
       "      <td>1.0</td>\n",
       "    </tr>\n",
       "  </tbody>\n",
       "</table>\n",
       "</div>"
      ],
      "text/plain": [
       "                  count        mean        std     min     25%    50%     75%  \\\n",
       "male             4240.0    0.429245   0.495027    0.00    0.00    0.0    1.00   \n",
       "age              4240.0   49.580189   8.572942   32.00   42.00   49.0   56.00   \n",
       "education        4135.0    1.979444   1.019791    1.00    1.00    2.0    3.00   \n",
       "currentSmoker    4240.0    0.494104   0.500024    0.00    0.00    0.0    1.00   \n",
       "cigsPerDay       4211.0    9.005937  11.922462    0.00    0.00    0.0   20.00   \n",
       "BPMeds           4187.0    0.029615   0.169544    0.00    0.00    0.0    0.00   \n",
       "prevalentStroke  4240.0    0.005896   0.076569    0.00    0.00    0.0    0.00   \n",
       "prevalentHyp     4240.0    0.310613   0.462799    0.00    0.00    0.0    1.00   \n",
       "diabetes         4240.0    0.025708   0.158280    0.00    0.00    0.0    0.00   \n",
       "totChol          4190.0  236.699523  44.591284  107.00  206.00  234.0  263.00   \n",
       "sysBP            4240.0  132.354599  22.033300   83.50  117.00  128.0  144.00   \n",
       "diaBP            4240.0   82.897759  11.910394   48.00   75.00   82.0   90.00   \n",
       "BMI              4221.0   25.800801   4.079840   15.54   23.07   25.4   28.04   \n",
       "heartRate        4239.0   75.878981  12.025348   44.00   68.00   75.0   83.00   \n",
       "glucose          3852.0   81.963655  23.954335   40.00   71.00   78.0   87.00   \n",
       "TenYearCHD       4240.0    0.151887   0.358953    0.00    0.00    0.0    0.00   \n",
       "\n",
       "                   max  \n",
       "male               1.0  \n",
       "age               70.0  \n",
       "education          4.0  \n",
       "currentSmoker      1.0  \n",
       "cigsPerDay        70.0  \n",
       "BPMeds             1.0  \n",
       "prevalentStroke    1.0  \n",
       "prevalentHyp       1.0  \n",
       "diabetes           1.0  \n",
       "totChol          696.0  \n",
       "sysBP            295.0  \n",
       "diaBP            142.5  \n",
       "BMI               56.8  \n",
       "heartRate        143.0  \n",
       "glucose          394.0  \n",
       "TenYearCHD         1.0  "
      ]
     },
     "execution_count": 88,
     "metadata": {},
     "output_type": "execute_result"
    }
   ],
   "source": [
    "dfp.describe().T"
   ]
  },
  {
   "cell_type": "code",
   "execution_count": 89,
   "metadata": {},
   "outputs": [],
   "source": [
    "def cm_data(cm):\n",
    "    tn = cm[0, 0]\n",
    "    fp = cm[0, 1]\n",
    "    fn = cm[1, 0]\n",
    "    tp = cm[1, 1]\n",
    "    print(\"Sensitivity: \", tp/(tp+fn))\n",
    "    print(\"Specificity: \",tn/(tn+fp))\n",
    "    print(\"Precision: \", tp/(tp+fp))\n",
    "    print(\"Accuracy: \", (tp+tn)/(tp+tn+fp+fn))"
   ]
  },
  {
   "cell_type": "code",
   "execution_count": 90,
   "metadata": {},
   "outputs": [],
   "source": [
    "def check_accuracy(test, pred, conf_mat = 'no'):\n",
    "    acc = accuracy_score(test, pred)\n",
    "    if conf_mat == 'yes':\n",
    "        cm = confusion_matrix(test, pred)\n",
    "        cm_df = pd.DataFrame(cm, columns=['Pred: 0', 'Pred: 1'], index = ['Obs: 0', 'Obs: 1'])\n",
    "        plt.figure(figsize=(10, 10))\n",
    "        sns.heatmap(cm_df, annot=True, fmt='d')\n",
    "        plt.show()\n",
    "        cm_data(cm)\n",
    "    return acc\n",
    "    "
   ]
  },
  {
   "cell_type": "code",
   "execution_count": 91,
   "metadata": {},
   "outputs": [],
   "source": [
    "def grid_search(model, params, df):\n",
    "    x_train, x_test, y_train, y_test = split_data(df)\n",
    "    x_train = sc.fit_transform(x_train)\n",
    "    x_test = sc.transform(x_test)\n",
    "    grid_mod = GridSearchCV(model, param_grid=params, cv = 10, n_jobs=-1, refit=True)\n",
    "    grid_mod.fit(x_train, y_train)\n",
    "\n",
    "    best_estimator = grid_mod.best_estimator_\n",
    "\n",
    "    y_pred = grid_mod.predict(x_test)\n",
    "    acc = check_accuracy(y_test, y_pred, conf_mat = 'yes')\n",
    "    # return acc"
   ]
  },
  {
   "cell_type": "code",
   "execution_count": 92,
   "metadata": {},
   "outputs": [],
   "source": [
    "def split_data(df, y = target_var):\n",
    "    x = df.loc[:, df.columns != y]\n",
    "    y = df.loc[:, y]\n",
    "\n",
    "    x_train, x_test, y_train, y_test = train_test_split(x, y, test_size = 0.2, random_state = 123)\n",
    "    # x_train, x_val, y_train, y_val =  train_test_split(x_train, y_train, test_size = 0.2, random_state = 123)\n",
    "\n",
    "    return x_train, x_test, y_train, y_test"
   ]
  },
  {
   "cell_type": "markdown",
   "metadata": {},
   "source": [
    "###  EDA and Feature Engineering"
   ]
  },
  {
   "cell_type": "markdown",
   "metadata": {},
   "source": [
    "#### Univariate Analysis"
   ]
  },
  {
   "cell_type": "code",
   "execution_count": 93,
   "metadata": {},
   "outputs": [
    {
     "name": "stdout",
     "output_type": "stream",
     "text": [
      "<class 'pandas.core.frame.DataFrame'>\n",
      "RangeIndex: 4240 entries, 0 to 4239\n",
      "Data columns (total 16 columns):\n",
      " #   Column           Non-Null Count  Dtype   \n",
      "---  ------           --------------  -----   \n",
      " 0   male             4240 non-null   category\n",
      " 1   age              4240 non-null   int64   \n",
      " 2   education        4135 non-null   category\n",
      " 3   currentSmoker    4240 non-null   category\n",
      " 4   cigsPerDay       4211 non-null   float64 \n",
      " 5   BPMeds           4187 non-null   category\n",
      " 6   prevalentStroke  4240 non-null   category\n",
      " 7   prevalentHyp     4240 non-null   category\n",
      " 8   diabetes         4240 non-null   category\n",
      " 9   totChol          4190 non-null   float64 \n",
      " 10  sysBP            4240 non-null   float64 \n",
      " 11  diaBP            4240 non-null   float64 \n",
      " 12  BMI              4221 non-null   float64 \n",
      " 13  heartRate        4239 non-null   float64 \n",
      " 14  glucose          3852 non-null   float64 \n",
      " 15  TenYearCHD       4240 non-null   category\n",
      "dtypes: category(8), float64(7), int64(1)\n",
      "memory usage: 299.3 KB\n"
     ]
    }
   ],
   "source": [
    "# Caonverting object and numerical to category\n",
    "\n",
    "to_be_cat = ['male', 'education', 'currentSmoker', 'BPMeds', 'prevalentStroke', 'prevalentHyp', 'diabetes', 'TenYearCHD']\n",
    "dfp[to_be_cat]= dfp[to_be_cat].astype('category')\n",
    "dfp.info()"
   ]
  },
  {
   "cell_type": "code",
   "execution_count": 94,
   "metadata": {},
   "outputs": [],
   "source": [
    "not_to_plot = [] # contains column names which are not to be plotted. In this case we have none.\n",
    "rand_color = ['red', 'blue', 'green']"
   ]
  },
  {
   "cell_type": "code",
   "execution_count": 95,
   "metadata": {},
   "outputs": [
    {
     "data": {
      "text/plain": [
       "0     No\n",
       "1     No\n",
       "2     No\n",
       "3    Yes\n",
       "4     No\n",
       "Name: TenYearCHD, dtype: category\n",
       "Categories (2, object): ['No', 'Yes']"
      ]
     },
     "execution_count": 95,
     "metadata": {},
     "output_type": "execute_result"
    }
   ],
   "source": [
    "dfp.TenYearCHD.replace(to_replace={1: 'Yes', 0:'No'}, inplace=True)\n",
    "dfp.TenYearCHD.head()\n",
    "# Replacing values just for plotting purposes."
   ]
  },
  {
   "cell_type": "code",
   "execution_count": 96,
   "metadata": {},
   "outputs": [],
   "source": [
    "def univariate(df, rows = 4, cols = 4):\n",
    "    fig=plt.figure(figsize=(20,20))\n",
    "    for j, i in enumerate(df.columns):\n",
    "        ax=fig.add_subplot(rows,cols,j+1)\n",
    "        if i in df.select_dtypes(['category']):\n",
    "            sns.countplot(x= i, data = df, ax=ax)\n",
    "        if i in df.select_dtypes(['int', 'float64']):\n",
    "            sns.distplot(x = df[i], ax=ax, color=np.random.choice(rand_color))\n",
    "    fig.tight_layout() \n",
    "    plt.show()"
   ]
  },
  {
   "cell_type": "code",
   "execution_count": 97,
   "metadata": {},
   "outputs": [
    {
     "data": {
      "image/png": "[encoded data removed]",
      "text/plain": [
       "<Figure size 1440x1440 with 16 Axes>"
      ]
     },
     "metadata": {
      "needs_background": "light"
     },
     "output_type": "display_data"
    }
   ],
   "source": [
    "univariate(dfp)"
   ]
  },
  {
   "cell_type": "markdown",
   "metadata": {},
   "source": [
    "#### Bivariate Analysis"
   ]
  },
  {
   "cell_type": "code",
   "execution_count": 98,
   "metadata": {},
   "outputs": [],
   "source": [
    "def bivariate(df, y = target_var, cols = 4, rows = 4):\n",
    "    temp = not_to_plot[:]\n",
    "    temp.append(y)\n",
    "    fig=plt.figure(figsize=(25,20))\n",
    "\n",
    "    for j, i in enumerate(df.columns):\n",
    "        if df[y].dtype == 'float':\n",
    "            if i in df.select_dtypes(['category']):\n",
    "                if (i not in temp): \n",
    "                    ax=fig.add_subplot(rows,cols,j+1)\n",
    "                    sns.boxplot(x = i, y = y, data = df)\n",
    "\n",
    "            if i in df.select_dtypes(['float', 'int']):                \n",
    "                if (i not in temp):      \n",
    "                    ax=fig.add_subplot(rows,cols,j+1)       \n",
    "                    sns.scatterplot(x = y, y = i, data = df)                  \n",
    "            \n",
    "        elif df[y].dtype == 'category':\n",
    "            if i in df.select_dtypes(['category']):\n",
    "                if (i not in temp):\n",
    "                    ax=fig.add_subplot(rows,cols,j+1)\n",
    "                    sns.countplot(x = i, hue = y, data = df)\n",
    "                    plt.legend(bbox_to_anchor=(1, 1), loc=2, borderaxespad=0.)\n",
    "\n",
    "            if i in df.select_dtypes(['float', 'int']):\n",
    "                if (i not in temp):\n",
    "                    ax=fig.add_subplot(rows,cols,j+1)\n",
    "                    sns.boxplot(x = y, y = i, data = df)\n",
    "    fig.tight_layout() \n",
    "    plt.show()"
   ]
  },
  {
   "cell_type": "code",
   "execution_count": 99,
   "metadata": {},
   "outputs": [
    {
     "data": {
      "image/png": "[encoded data removed]",
      "text/plain": [
       "<Figure size 1800x1440 with 15 Axes>"
      ]
     },
     "metadata": {
      "needs_background": "light"
     },
     "output_type": "display_data"
    }
   ],
   "source": [
    "bivariate(dfp)"
   ]
  },
  {
   "cell_type": "markdown",
   "metadata": {},
   "source": [
    "#### Missing Values"
   ]
  },
  {
   "cell_type": "code",
   "execution_count": 100,
   "metadata": {},
   "outputs": [
    {
     "data": {
      "text/plain": [
       "male                 0\n",
       "age                  0\n",
       "education          105\n",
       "currentSmoker        0\n",
       "cigsPerDay          29\n",
       "BPMeds              53\n",
       "prevalentStroke      0\n",
       "prevalentHyp         0\n",
       "diabetes             0\n",
       "totChol             50\n",
       "sysBP                0\n",
       "diaBP                0\n",
       "BMI                 19\n",
       "heartRate            1\n",
       "glucose            388\n",
       "TenYearCHD           0\n",
       "dtype: int64"
      ]
     },
     "execution_count": 100,
     "metadata": {},
     "output_type": "execute_result"
    }
   ],
   "source": [
    "dfp.isnull().sum()"
   ]
  },
  {
   "cell_type": "code",
   "execution_count": 101,
   "metadata": {},
   "outputs": [
    {
     "name": "stdout",
     "output_type": "stream",
     "text": [
      "education % :  2.4764150943396226\n",
      "cigsPerDay % :  0.6839622641509434\n",
      "BPMeds % :  1.25\n",
      "totChol % :  1.179245283018868\n",
      "BMI % :  0.4481132075471698\n",
      "heartRate % :  0.02358490566037736\n",
      "glucose % :  9.150943396226415\n"
     ]
    }
   ],
   "source": [
    "# % of all missing var\n",
    "miss_df = pd.DataFrame(dfp.isnull().sum(), columns=['Miss_Values'])\n",
    "for i in miss_df.index:\n",
    "    val = miss_df._get_value(i, miss_df.columns[0]) \n",
    "    if val > 0:\n",
    "        print(i, \"% : \", val*100/dfp.shape[0])"
   ]
  },
  {
   "cell_type": "code",
   "execution_count": 102,
   "metadata": {},
   "outputs": [
    {
     "data": {
      "text/plain": [
       "male               0\n",
       "age                0\n",
       "education          0\n",
       "currentSmoker      0\n",
       "cigsPerDay         0\n",
       "BPMeds             0\n",
       "prevalentStroke    0\n",
       "prevalentHyp       0\n",
       "diabetes           0\n",
       "totChol            0\n",
       "sysBP              0\n",
       "diaBP              0\n",
       "BMI                0\n",
       "heartRate          0\n",
       "glucose            0\n",
       "TenYearCHD         0\n",
       "dtype: int64"
      ]
     },
     "execution_count": 102,
     "metadata": {},
     "output_type": "execute_result"
    }
   ],
   "source": [
    "# Case 1: Drop All Null Values.\n",
    "dfp.dropna(inplace=True)\n",
    "dfp.isnull().sum()"
   ]
  },
  {
   "cell_type": "code",
   "execution_count": 103,
   "metadata": {},
   "outputs": [
    {
     "data": {
      "text/html": [
       "<div>\n",
       "<style scoped>\n",
       "    .dataframe tbody tr th:only-of-type {\n",
       "        vertical-align: middle;\n",
       "    }\n",
       "\n",
       "    .dataframe tbody tr th {\n",
       "        vertical-align: top;\n",
       "    }\n",
       "\n",
       "    .dataframe thead th {\n",
       "        text-align: right;\n",
       "    }\n",
       "</style>\n",
       "<table border=\"1\" class=\"dataframe\">\n",
       "  <thead>\n",
       "    <tr style=\"text-align: right;\">\n",
       "      <th></th>\n",
       "      <th>male</th>\n",
       "      <th>age</th>\n",
       "      <th>education</th>\n",
       "      <th>currentSmoker</th>\n",
       "      <th>cigsPerDay</th>\n",
       "      <th>BPMeds</th>\n",
       "      <th>prevalentStroke</th>\n",
       "      <th>prevalentHyp</th>\n",
       "      <th>diabetes</th>\n",
       "      <th>totChol</th>\n",
       "      <th>sysBP</th>\n",
       "      <th>diaBP</th>\n",
       "      <th>BMI</th>\n",
       "      <th>heartRate</th>\n",
       "      <th>glucose</th>\n",
       "      <th>TenYearCHD</th>\n",
       "    </tr>\n",
       "  </thead>\n",
       "  <tbody>\n",
       "    <tr>\n",
       "      <th>0</th>\n",
       "      <td>1</td>\n",
       "      <td>39</td>\n",
       "      <td>4.0</td>\n",
       "      <td>0</td>\n",
       "      <td>0.0</td>\n",
       "      <td>0.0</td>\n",
       "      <td>0</td>\n",
       "      <td>0</td>\n",
       "      <td>0</td>\n",
       "      <td>195.0</td>\n",
       "      <td>106.0</td>\n",
       "      <td>70.0</td>\n",
       "      <td>26.97</td>\n",
       "      <td>80.0</td>\n",
       "      <td>77.0</td>\n",
       "      <td>0</td>\n",
       "    </tr>\n",
       "    <tr>\n",
       "      <th>1</th>\n",
       "      <td>0</td>\n",
       "      <td>46</td>\n",
       "      <td>2.0</td>\n",
       "      <td>0</td>\n",
       "      <td>0.0</td>\n",
       "      <td>0.0</td>\n",
       "      <td>0</td>\n",
       "      <td>0</td>\n",
       "      <td>0</td>\n",
       "      <td>250.0</td>\n",
       "      <td>121.0</td>\n",
       "      <td>81.0</td>\n",
       "      <td>28.73</td>\n",
       "      <td>95.0</td>\n",
       "      <td>76.0</td>\n",
       "      <td>0</td>\n",
       "    </tr>\n",
       "    <tr>\n",
       "      <th>2</th>\n",
       "      <td>1</td>\n",
       "      <td>48</td>\n",
       "      <td>1.0</td>\n",
       "      <td>1</td>\n",
       "      <td>20.0</td>\n",
       "      <td>0.0</td>\n",
       "      <td>0</td>\n",
       "      <td>0</td>\n",
       "      <td>0</td>\n",
       "      <td>245.0</td>\n",
       "      <td>127.5</td>\n",
       "      <td>80.0</td>\n",
       "      <td>25.34</td>\n",
       "      <td>75.0</td>\n",
       "      <td>70.0</td>\n",
       "      <td>0</td>\n",
       "    </tr>\n",
       "    <tr>\n",
       "      <th>3</th>\n",
       "      <td>0</td>\n",
       "      <td>61</td>\n",
       "      <td>3.0</td>\n",
       "      <td>1</td>\n",
       "      <td>30.0</td>\n",
       "      <td>0.0</td>\n",
       "      <td>0</td>\n",
       "      <td>1</td>\n",
       "      <td>0</td>\n",
       "      <td>225.0</td>\n",
       "      <td>150.0</td>\n",
       "      <td>95.0</td>\n",
       "      <td>28.58</td>\n",
       "      <td>65.0</td>\n",
       "      <td>103.0</td>\n",
       "      <td>1</td>\n",
       "    </tr>\n",
       "    <tr>\n",
       "      <th>4</th>\n",
       "      <td>0</td>\n",
       "      <td>46</td>\n",
       "      <td>3.0</td>\n",
       "      <td>1</td>\n",
       "      <td>23.0</td>\n",
       "      <td>0.0</td>\n",
       "      <td>0</td>\n",
       "      <td>0</td>\n",
       "      <td>0</td>\n",
       "      <td>285.0</td>\n",
       "      <td>130.0</td>\n",
       "      <td>84.0</td>\n",
       "      <td>23.10</td>\n",
       "      <td>85.0</td>\n",
       "      <td>85.0</td>\n",
       "      <td>0</td>\n",
       "    </tr>\n",
       "  </tbody>\n",
       "</table>\n",
       "</div>"
      ],
      "text/plain": [
       "  male  age education currentSmoker  cigsPerDay BPMeds prevalentStroke  \\\n",
       "0    1   39       4.0             0         0.0    0.0               0   \n",
       "1    0   46       2.0             0         0.0    0.0               0   \n",
       "2    1   48       1.0             1        20.0    0.0               0   \n",
       "3    0   61       3.0             1        30.0    0.0               0   \n",
       "4    0   46       3.0             1        23.0    0.0               0   \n",
       "\n",
       "  prevalentHyp diabetes  totChol  sysBP  diaBP    BMI  heartRate  glucose  \\\n",
       "0            0        0    195.0  106.0   70.0  26.97       80.0     77.0   \n",
       "1            0        0    250.0  121.0   81.0  28.73       95.0     76.0   \n",
       "2            0        0    245.0  127.5   80.0  25.34       75.0     70.0   \n",
       "3            1        0    225.0  150.0   95.0  28.58       65.0    103.0   \n",
       "4            0        0    285.0  130.0   84.0  23.10       85.0     85.0   \n",
       "\n",
       "   TenYearCHD  \n",
       "0           0  \n",
       "1           0  \n",
       "2           0  \n",
       "3           1  \n",
       "4           0  "
      ]
     },
     "execution_count": 103,
     "metadata": {},
     "output_type": "execute_result"
    }
   ],
   "source": [
    "dfp.TenYearCHD = le.fit_transform(dfp.TenYearCHD)\n",
    "dfp.head()"
   ]
  },
  {
   "cell_type": "code",
   "execution_count": 104,
   "metadata": {},
   "outputs": [
    {
     "data": {
      "text/plain": [
       "0    3101\n",
       "1     557\n",
       "Name: TenYearCHD, dtype: int64"
      ]
     },
     "execution_count": 104,
     "metadata": {},
     "output_type": "execute_result"
    }
   ],
   "source": [
    "dfp.TenYearCHD.value_counts()"
   ]
  },
  {
   "cell_type": "markdown",
   "metadata": {},
   "source": [
    "#### Treating Imbalanced Dataset\n",
    "\n",
    "Trying Oversampling using SMOTE"
   ]
  },
  {
   "cell_type": "code",
   "execution_count": 105,
   "metadata": {},
   "outputs": [
    {
     "data": {
      "text/plain": [
       "0    3101\n",
       "1    3101\n",
       "Name: TenYearCHD, dtype: int64"
      ]
     },
     "execution_count": 105,
     "metadata": {},
     "output_type": "execute_result"
    }
   ],
   "source": [
    "# Smote - Over Sampling\n",
    "cols = dfp.columns\n",
    "oversample = SMOTE(random_state = 2, sampling_strategy='minority')\n",
    "x = dfp.loc[:, dfp.columns != 'TenYearCHD']\n",
    "y = dfp.loc[:, dfp.columns == 'TenYearCHD']\n",
    "\n",
    "x = x.values\n",
    "y = y.values\n",
    "\n",
    "x, y = oversample.fit_resample(x, y)\n",
    "\n",
    "dfp = pd.concat([pd.DataFrame(x), pd.DataFrame(y)], axis=1)\n",
    "\n",
    "dfp.columns = cols\n",
    "\n",
    "dfp.TenYearCHD.value_counts()   # Oversampling Successful"
   ]
  },
  {
   "cell_type": "code",
   "execution_count": 106,
   "metadata": {},
   "outputs": [],
   "source": [
    "# Can Also try this method\n",
    "\n",
    "# x_train_sm, x_test_sm, y_train_sm, y_test_sm = split_data(dfp)\n",
    "\n",
    "# x_train_sm = x_train_sm.values\n",
    "# x_test_sm = x_test_sm.values\n",
    "# y_train_sm = y_train_sm.values\n",
    "# y_test_sm = y_test_sm.values\n",
    "\n",
    "# pipeline = imbpipeline(\n",
    "#     steps = [\n",
    "#         ['smote', SMOTE(random_state=11)],\n",
    "#         ['scaler', MinMaxScaler()],\n",
    "#         ['classifier', LogisticRegression(random_state=11,max_iter=1000)]\n",
    "#     ]\n",
    "# )\n",
    "\n",
    "# stratified_kfold = StratifiedKFold(n_splits=3,shuffle=True,random_state=11)\n",
    "\n",
    "# param_grid = {'classifier__C':[0.001, 0.01, 0.1, 1, 10, 100]}\n",
    "# grid_search = GridSearchCV(estimator=pipeline,\n",
    "#                            param_grid=param_grid,\n",
    "#                            scoring='roc_auc',\n",
    "#                            cv=stratified_kfold,\n",
    "#                            n_jobs=4,\n",
    "#                            error_score=0)\n",
    "# # print(y_train_sm.isnull().sum())\n",
    "# grid_search.fit(x_train_sm, y_train_sm)\n",
    "# cv_score = grid_search.best_score_\n",
    "# print(cv_score)"
   ]
  },
  {
   "cell_type": "code",
   "execution_count": 107,
   "metadata": {},
   "outputs": [],
   "source": [
    "# Near Miss - Under Sampling\n",
    "\n",
    "# nr = NearMiss() \n",
    "# x = dfp.loc[:, dfp.columns != 'TenYearCHD']\n",
    "# y = dfp.loc[:, dfp.columns == 'TenYearCHD']\n",
    "# X_near, Y_near= nr.fit_resample(x, y)\n",
    "# dfp = pd.concat([X_near, Y_near], axis=1)"
   ]
  },
  {
   "cell_type": "markdown",
   "metadata": {},
   "source": [
    "#### Model Building"
   ]
  },
  {
   "cell_type": "markdown",
   "metadata": {},
   "source": [
    "##### 1. Logistic Regression"
   ]
  },
  {
   "cell_type": "code",
   "execution_count": 108,
   "metadata": {},
   "outputs": [
    {
     "data": {
      "text/html": [
       "<div>\n",
       "<style scoped>\n",
       "    .dataframe tbody tr th:only-of-type {\n",
       "        vertical-align: middle;\n",
       "    }\n",
       "\n",
       "    .dataframe tbody tr th {\n",
       "        vertical-align: top;\n",
       "    }\n",
       "\n",
       "    .dataframe thead th {\n",
       "        text-align: right;\n",
       "    }\n",
       "</style>\n",
       "<table border=\"1\" class=\"dataframe\">\n",
       "  <thead>\n",
       "    <tr style=\"text-align: right;\">\n",
       "      <th></th>\n",
       "      <th>const</th>\n",
       "      <th>male</th>\n",
       "      <th>age</th>\n",
       "      <th>education</th>\n",
       "      <th>currentSmoker</th>\n",
       "      <th>cigsPerDay</th>\n",
       "      <th>BPMeds</th>\n",
       "      <th>prevalentStroke</th>\n",
       "      <th>prevalentHyp</th>\n",
       "      <th>diabetes</th>\n",
       "      <th>totChol</th>\n",
       "      <th>sysBP</th>\n",
       "      <th>diaBP</th>\n",
       "      <th>BMI</th>\n",
       "      <th>heartRate</th>\n",
       "      <th>glucose</th>\n",
       "      <th>TenYearCHD</th>\n",
       "    </tr>\n",
       "  </thead>\n",
       "  <tbody>\n",
       "    <tr>\n",
       "      <th>0</th>\n",
       "      <td>1.0</td>\n",
       "      <td>1.0</td>\n",
       "      <td>39.0</td>\n",
       "      <td>4.0</td>\n",
       "      <td>0.0</td>\n",
       "      <td>0.0</td>\n",
       "      <td>0.0</td>\n",
       "      <td>0.0</td>\n",
       "      <td>0.0</td>\n",
       "      <td>0.0</td>\n",
       "      <td>195.0</td>\n",
       "      <td>106.0</td>\n",
       "      <td>70.0</td>\n",
       "      <td>26.97</td>\n",
       "      <td>80.0</td>\n",
       "      <td>77.0</td>\n",
       "      <td>0</td>\n",
       "    </tr>\n",
       "    <tr>\n",
       "      <th>1</th>\n",
       "      <td>1.0</td>\n",
       "      <td>0.0</td>\n",
       "      <td>46.0</td>\n",
       "      <td>2.0</td>\n",
       "      <td>0.0</td>\n",
       "      <td>0.0</td>\n",
       "      <td>0.0</td>\n",
       "      <td>0.0</td>\n",
       "      <td>0.0</td>\n",
       "      <td>0.0</td>\n",
       "      <td>250.0</td>\n",
       "      <td>121.0</td>\n",
       "      <td>81.0</td>\n",
       "      <td>28.73</td>\n",
       "      <td>95.0</td>\n",
       "      <td>76.0</td>\n",
       "      <td>0</td>\n",
       "    </tr>\n",
       "    <tr>\n",
       "      <th>2</th>\n",
       "      <td>1.0</td>\n",
       "      <td>1.0</td>\n",
       "      <td>48.0</td>\n",
       "      <td>1.0</td>\n",
       "      <td>1.0</td>\n",
       "      <td>20.0</td>\n",
       "      <td>0.0</td>\n",
       "      <td>0.0</td>\n",
       "      <td>0.0</td>\n",
       "      <td>0.0</td>\n",
       "      <td>245.0</td>\n",
       "      <td>127.5</td>\n",
       "      <td>80.0</td>\n",
       "      <td>25.34</td>\n",
       "      <td>75.0</td>\n",
       "      <td>70.0</td>\n",
       "      <td>0</td>\n",
       "    </tr>\n",
       "    <tr>\n",
       "      <th>3</th>\n",
       "      <td>1.0</td>\n",
       "      <td>0.0</td>\n",
       "      <td>61.0</td>\n",
       "      <td>3.0</td>\n",
       "      <td>1.0</td>\n",
       "      <td>30.0</td>\n",
       "      <td>0.0</td>\n",
       "      <td>0.0</td>\n",
       "      <td>1.0</td>\n",
       "      <td>0.0</td>\n",
       "      <td>225.0</td>\n",
       "      <td>150.0</td>\n",
       "      <td>95.0</td>\n",
       "      <td>28.58</td>\n",
       "      <td>65.0</td>\n",
       "      <td>103.0</td>\n",
       "      <td>1</td>\n",
       "    </tr>\n",
       "    <tr>\n",
       "      <th>4</th>\n",
       "      <td>1.0</td>\n",
       "      <td>0.0</td>\n",
       "      <td>46.0</td>\n",
       "      <td>3.0</td>\n",
       "      <td>1.0</td>\n",
       "      <td>23.0</td>\n",
       "      <td>0.0</td>\n",
       "      <td>0.0</td>\n",
       "      <td>0.0</td>\n",
       "      <td>0.0</td>\n",
       "      <td>285.0</td>\n",
       "      <td>130.0</td>\n",
       "      <td>84.0</td>\n",
       "      <td>23.10</td>\n",
       "      <td>85.0</td>\n",
       "      <td>85.0</td>\n",
       "      <td>0</td>\n",
       "    </tr>\n",
       "  </tbody>\n",
       "</table>\n",
       "</div>"
      ],
      "text/plain": [
       "   const  male   age  education  currentSmoker  cigsPerDay  BPMeds  \\\n",
       "0    1.0   1.0  39.0        4.0            0.0         0.0     0.0   \n",
       "1    1.0   0.0  46.0        2.0            0.0         0.0     0.0   \n",
       "2    1.0   1.0  48.0        1.0            1.0        20.0     0.0   \n",
       "3    1.0   0.0  61.0        3.0            1.0        30.0     0.0   \n",
       "4    1.0   0.0  46.0        3.0            1.0        23.0     0.0   \n",
       "\n",
       "   prevalentStroke  prevalentHyp  diabetes  totChol  sysBP  diaBP    BMI  \\\n",
       "0              0.0           0.0       0.0    195.0  106.0   70.0  26.97   \n",
       "1              0.0           0.0       0.0    250.0  121.0   81.0  28.73   \n",
       "2              0.0           0.0       0.0    245.0  127.5   80.0  25.34   \n",
       "3              0.0           1.0       0.0    225.0  150.0   95.0  28.58   \n",
       "4              0.0           0.0       0.0    285.0  130.0   84.0  23.10   \n",
       "\n",
       "   heartRate  glucose  TenYearCHD  \n",
       "0       80.0     77.0           0  \n",
       "1       95.0     76.0           0  \n",
       "2       75.0     70.0           0  \n",
       "3       65.0    103.0           1  \n",
       "4       85.0     85.0           0  "
      ]
     },
     "execution_count": 108,
     "metadata": {},
     "output_type": "execute_result"
    }
   ],
   "source": [
    "# Adding Constant variable\n",
    "\n",
    "dfp_constant = ac(dfp)\n",
    "dfp_constant.head()"
   ]
  },
  {
   "cell_type": "code",
   "execution_count": 109,
   "metadata": {},
   "outputs": [
    {
     "name": "stdout",
     "output_type": "stream",
     "text": [
      "Optimization terminated successfully.\n",
      "         Current function value: 0.599518\n",
      "         Iterations 6\n"
     ]
    },
    {
     "data": {
      "text/html": [
       "<table class=\"simpletable\">\n",
       "<caption>Logit Regression Results</caption>\n",
       "<tr>\n",
       "  <th>Dep. Variable:</th>      <td>TenYearCHD</td>    <th>  No. Observations:  </th>   <td>  6202</td>  \n",
       "</tr>\n",
       "<tr>\n",
       "  <th>Model:</th>                 <td>Logit</td>      <th>  Df Residuals:      </th>   <td>  6186</td>  \n",
       "</tr>\n",
       "<tr>\n",
       "  <th>Method:</th>                 <td>MLE</td>       <th>  Df Model:          </th>   <td>    15</td>  \n",
       "</tr>\n",
       "<tr>\n",
       "  <th>Date:</th>            <td>Mon, 11 Jul 2022</td> <th>  Pseudo R-squ.:     </th>   <td>0.1351</td>  \n",
       "</tr>\n",
       "<tr>\n",
       "  <th>Time:</th>                <td>18:29:57</td>     <th>  Log-Likelihood:    </th>  <td> -3718.2</td> \n",
       "</tr>\n",
       "<tr>\n",
       "  <th>converged:</th>             <td>True</td>       <th>  LL-Null:           </th>  <td> -4298.9</td> \n",
       "</tr>\n",
       "<tr>\n",
       "  <th>Covariance Type:</th>     <td>nonrobust</td>    <th>  LLR p-value:       </th> <td>3.219e-238</td>\n",
       "</tr>\n",
       "</table>\n",
       "<table class=\"simpletable\">\n",
       "<tr>\n",
       "         <td></td>            <th>coef</th>     <th>std err</th>      <th>z</th>      <th>P>|z|</th>  <th>[0.025</th>    <th>0.975]</th>  \n",
       "</tr>\n",
       "<tr>\n",
       "  <th>const</th>           <td>   -6.8093</td> <td>    0.429</td> <td>  -15.881</td> <td> 0.000</td> <td>   -7.650</td> <td>   -5.969</td>\n",
       "</tr>\n",
       "<tr>\n",
       "  <th>male</th>            <td>    0.6126</td> <td>    0.066</td> <td>    9.313</td> <td> 0.000</td> <td>    0.484</td> <td>    0.742</td>\n",
       "</tr>\n",
       "<tr>\n",
       "  <th>age</th>             <td>    0.0722</td> <td>    0.004</td> <td>   17.651</td> <td> 0.000</td> <td>    0.064</td> <td>    0.080</td>\n",
       "</tr>\n",
       "<tr>\n",
       "  <th>education</th>       <td>   -0.0919</td> <td>    0.030</td> <td>   -3.084</td> <td> 0.002</td> <td>   -0.150</td> <td>   -0.033</td>\n",
       "</tr>\n",
       "<tr>\n",
       "  <th>currentSmoker</th>   <td>    0.1899</td> <td>    0.099</td> <td>    1.918</td> <td> 0.055</td> <td>   -0.004</td> <td>    0.384</td>\n",
       "</tr>\n",
       "<tr>\n",
       "  <th>cigsPerDay</th>      <td>    0.0123</td> <td>    0.004</td> <td>    2.969</td> <td> 0.003</td> <td>    0.004</td> <td>    0.020</td>\n",
       "</tr>\n",
       "<tr>\n",
       "  <th>BPMeds</th>          <td>    0.4856</td> <td>    0.170</td> <td>    2.856</td> <td> 0.004</td> <td>    0.152</td> <td>    0.819</td>\n",
       "</tr>\n",
       "<tr>\n",
       "  <th>prevalentStroke</th> <td>    0.8286</td> <td>    0.392</td> <td>    2.113</td> <td> 0.035</td> <td>    0.060</td> <td>    1.597</td>\n",
       "</tr>\n",
       "<tr>\n",
       "  <th>prevalentHyp</th>    <td>    0.2283</td> <td>    0.088</td> <td>    2.605</td> <td> 0.009</td> <td>    0.057</td> <td>    0.400</td>\n",
       "</tr>\n",
       "<tr>\n",
       "  <th>diabetes</th>        <td>   -0.0098</td> <td>    0.229</td> <td>   -0.043</td> <td> 0.966</td> <td>   -0.460</td> <td>    0.440</td>\n",
       "</tr>\n",
       "<tr>\n",
       "  <th>totChol</th>         <td>    0.0023</td> <td>    0.001</td> <td>    3.541</td> <td> 0.000</td> <td>    0.001</td> <td>    0.004</td>\n",
       "</tr>\n",
       "<tr>\n",
       "  <th>sysBP</th>           <td>    0.0117</td> <td>    0.003</td> <td>    4.662</td> <td> 0.000</td> <td>    0.007</td> <td>    0.017</td>\n",
       "</tr>\n",
       "<tr>\n",
       "  <th>diaBP</th>           <td>    0.0012</td> <td>    0.004</td> <td>    0.293</td> <td> 0.770</td> <td>   -0.007</td> <td>    0.009</td>\n",
       "</tr>\n",
       "<tr>\n",
       "  <th>BMI</th>             <td>    0.0070</td> <td>    0.008</td> <td>    0.881</td> <td> 0.378</td> <td>   -0.009</td> <td>    0.022</td>\n",
       "</tr>\n",
       "<tr>\n",
       "  <th>heartRate</th>       <td>   -0.0034</td> <td>    0.003</td> <td>   -1.349</td> <td> 0.177</td> <td>   -0.008</td> <td>    0.002</td>\n",
       "</tr>\n",
       "<tr>\n",
       "  <th>glucose</th>         <td>    0.0056</td> <td>    0.002</td> <td>    3.625</td> <td> 0.000</td> <td>    0.003</td> <td>    0.009</td>\n",
       "</tr>\n",
       "</table>"
      ],
      "text/plain": [
       "<class 'statsmodels.iolib.summary.Summary'>\n",
       "\"\"\"\n",
       "                           Logit Regression Results                           \n",
       "==============================================================================\n",
       "Dep. Variable:             TenYearCHD   No. Observations:                 6202\n",
       "Model:                          Logit   Df Residuals:                     6186\n",
       "Method:                           MLE   Df Model:                           15\n",
       "Date:                Mon, 11 Jul 2022   Pseudo R-squ.:                  0.1351\n",
       "Time:                        18:29:57   Log-Likelihood:                -3718.2\n",
       "converged:                       True   LL-Null:                       -4298.9\n",
       "Covariance Type:            nonrobust   LLR p-value:                3.219e-238\n",
       "===================================================================================\n",
       "                      coef    std err          z      P>|z|      [0.025      0.975]\n",
       "-----------------------------------------------------------------------------------\n",
       "const              -6.8093      0.429    -15.881      0.000      -7.650      -5.969\n",
       "male                0.6126      0.066      9.313      0.000       0.484       0.742\n",
       "age                 0.0722      0.004     17.651      0.000       0.064       0.080\n",
       "education          -0.0919      0.030     -3.084      0.002      -0.150      -0.033\n",
       "currentSmoker       0.1899      0.099      1.918      0.055      -0.004       0.384\n",
       "cigsPerDay          0.0123      0.004      2.969      0.003       0.004       0.020\n",
       "BPMeds              0.4856      0.170      2.856      0.004       0.152       0.819\n",
       "prevalentStroke     0.8286      0.392      2.113      0.035       0.060       1.597\n",
       "prevalentHyp        0.2283      0.088      2.605      0.009       0.057       0.400\n",
       "diabetes           -0.0098      0.229     -0.043      0.966      -0.460       0.440\n",
       "totChol             0.0023      0.001      3.541      0.000       0.001       0.004\n",
       "sysBP               0.0117      0.003      4.662      0.000       0.007       0.017\n",
       "diaBP               0.0012      0.004      0.293      0.770      -0.007       0.009\n",
       "BMI                 0.0070      0.008      0.881      0.378      -0.009       0.022\n",
       "heartRate          -0.0034      0.003     -1.349      0.177      -0.008       0.002\n",
       "glucose             0.0056      0.002      3.625      0.000       0.003       0.009\n",
       "===================================================================================\n",
       "\"\"\""
      ]
     },
     "execution_count": 109,
     "metadata": {},
     "output_type": "execute_result"
    }
   ],
   "source": [
    "col = dfp_constant.columns[:-1]\n",
    "model = sm.Logit(dfp.TenYearCHD,dfp_constant[col])\n",
    "result = model.fit()\n",
    "result.summary()"
   ]
  },
  {
   "cell_type": "code",
   "execution_count": 110,
   "metadata": {},
   "outputs": [],
   "source": [
    "params_lg = {\n",
    "    'penalty': ['l1', 'l2','elasticnet'],\n",
    "    'tol': [0.1, 0.01],\n",
    "    'C': [0.1, 0.01],\n",
    "    'solver': ['newton-cg', 'lbfgs', 'liblinear', 'sag', 'saga'],\n",
    "    'max_iter': [10, 100],\n",
    "    'multi_class': ['auto', 'ovr','multinomial'],\n",
    "    'n_jobs': [3,4],\n",
    "}"
   ]
  },
  {
   "cell_type": "code",
   "execution_count": 111,
   "metadata": {},
   "outputs": [
    {
     "data": {
      "image/png": "[encoded data removed]",
      "text/plain": [
       "<Figure size 720x720 with 2 Axes>"
      ]
     },
     "metadata": {
      "needs_background": "light"
     },
     "output_type": "display_data"
    },
    {
     "name": "stdout",
     "output_type": "stream",
     "text": [
      "Sensitivity:  0.6881188118811881\n",
      "Specificity:  0.6456692913385826\n",
      "Precision:  0.6495327102803738\n",
      "Accuracy:  0.6663980660757454\n"
     ]
    }
   ],
   "source": [
    "# Accuracy Before Back feature Elimination.\n",
    "\n",
    "grid_search(LogisticRegression(), params_lg, dfp)"
   ]
  },
  {
   "cell_type": "code",
   "execution_count": 112,
   "metadata": {},
   "outputs": [],
   "source": [
    "# Back feature Elimination for variables whose p-value is more than 0.05\n",
    "\n",
    "def back_feat_elem(df, colm = col, y = dfp[target_var]):\n",
    "    while len(colm) > 0:\n",
    "        model = sm.Logit(y, df[colm])\n",
    "        result = model.fit(disp= 0)\n",
    "        largest_pvalue = round(result.pvalues, 3).nlargest(1)\n",
    "        if largest_pvalue[0] < (0.05):\n",
    "            return result\n",
    "            break\n",
    "        else:\n",
    "            colm= colm.drop(largest_pvalue.index)"
   ]
  },
  {
   "cell_type": "code",
   "execution_count": 113,
   "metadata": {},
   "outputs": [
    {
     "data": {
      "text/html": [
       "<table class=\"simpletable\">\n",
       "<caption>Logit Regression Results</caption>\n",
       "<tr>\n",
       "  <th>Dep. Variable:</th>      <td>TenYearCHD</td>    <th>  No. Observations:  </th>   <td>  6202</td>  \n",
       "</tr>\n",
       "<tr>\n",
       "  <th>Model:</th>                 <td>Logit</td>      <th>  Df Residuals:      </th>   <td>  6191</td>  \n",
       "</tr>\n",
       "<tr>\n",
       "  <th>Method:</th>                 <td>MLE</td>       <th>  Df Model:          </th>   <td>    10</td>  \n",
       "</tr>\n",
       "<tr>\n",
       "  <th>Date:</th>            <td>Mon, 11 Jul 2022</td> <th>  Pseudo R-squ.:     </th>   <td>0.1344</td>  \n",
       "</tr>\n",
       "<tr>\n",
       "  <th>Time:</th>                <td>18:30:42</td>     <th>  Log-Likelihood:    </th>  <td> -3721.3</td> \n",
       "</tr>\n",
       "<tr>\n",
       "  <th>converged:</th>             <td>True</td>       <th>  LL-Null:           </th>  <td> -4298.9</td> \n",
       "</tr>\n",
       "<tr>\n",
       "  <th>Covariance Type:</th>     <td>nonrobust</td>    <th>  LLR p-value:       </th> <td>6.309e-242</td>\n",
       "</tr>\n",
       "</table>\n",
       "<table class=\"simpletable\">\n",
       "<tr>\n",
       "         <td></td>            <th>coef</th>     <th>std err</th>      <th>z</th>      <th>P>|z|</th>  <th>[0.025</th>    <th>0.975]</th>  \n",
       "</tr>\n",
       "<tr>\n",
       "  <th>const</th>           <td>   -6.7462</td> <td>    0.323</td> <td>  -20.856</td> <td> 0.000</td> <td>   -7.380</td> <td>   -6.112</td>\n",
       "</tr>\n",
       "<tr>\n",
       "  <th>male</th>            <td>    0.6251</td> <td>    0.064</td> <td>    9.750</td> <td> 0.000</td> <td>    0.499</td> <td>    0.751</td>\n",
       "</tr>\n",
       "<tr>\n",
       "  <th>age</th>             <td>    0.0714</td> <td>    0.004</td> <td>   18.167</td> <td> 0.000</td> <td>    0.064</td> <td>    0.079</td>\n",
       "</tr>\n",
       "<tr>\n",
       "  <th>education</th>       <td>   -0.0931</td> <td>    0.029</td> <td>   -3.164</td> <td> 0.002</td> <td>   -0.151</td> <td>   -0.035</td>\n",
       "</tr>\n",
       "<tr>\n",
       "  <th>cigsPerDay</th>      <td>    0.0176</td> <td>    0.003</td> <td>    6.701</td> <td> 0.000</td> <td>    0.012</td> <td>    0.023</td>\n",
       "</tr>\n",
       "<tr>\n",
       "  <th>BPMeds</th>          <td>    0.4793</td> <td>    0.170</td> <td>    2.823</td> <td> 0.005</td> <td>    0.147</td> <td>    0.812</td>\n",
       "</tr>\n",
       "<tr>\n",
       "  <th>prevalentStroke</th> <td>    0.8444</td> <td>    0.392</td> <td>    2.156</td> <td> 0.031</td> <td>    0.077</td> <td>    1.612</td>\n",
       "</tr>\n",
       "<tr>\n",
       "  <th>prevalentHyp</th>    <td>    0.2270</td> <td>    0.086</td> <td>    2.636</td> <td> 0.008</td> <td>    0.058</td> <td>    0.396</td>\n",
       "</tr>\n",
       "<tr>\n",
       "  <th>totChol</th>         <td>    0.0023</td> <td>    0.001</td> <td>    3.512</td> <td> 0.000</td> <td>    0.001</td> <td>    0.004</td>\n",
       "</tr>\n",
       "<tr>\n",
       "  <th>sysBP</th>           <td>    0.0121</td> <td>    0.002</td> <td>    6.569</td> <td> 0.000</td> <td>    0.009</td> <td>    0.016</td>\n",
       "</tr>\n",
       "<tr>\n",
       "  <th>glucose</th>         <td>    0.0055</td> <td>    0.001</td> <td>    4.898</td> <td> 0.000</td> <td>    0.003</td> <td>    0.008</td>\n",
       "</tr>\n",
       "</table>"
      ],
      "text/plain": [
       "<class 'statsmodels.iolib.summary.Summary'>\n",
       "\"\"\"\n",
       "                           Logit Regression Results                           \n",
       "==============================================================================\n",
       "Dep. Variable:             TenYearCHD   No. Observations:                 6202\n",
       "Model:                          Logit   Df Residuals:                     6191\n",
       "Method:                           MLE   Df Model:                           10\n",
       "Date:                Mon, 11 Jul 2022   Pseudo R-squ.:                  0.1344\n",
       "Time:                        18:30:42   Log-Likelihood:                -3721.3\n",
       "converged:                       True   LL-Null:                       -4298.9\n",
       "Covariance Type:            nonrobust   LLR p-value:                6.309e-242\n",
       "===================================================================================\n",
       "                      coef    std err          z      P>|z|      [0.025      0.975]\n",
       "-----------------------------------------------------------------------------------\n",
       "const              -6.7462      0.323    -20.856      0.000      -7.380      -6.112\n",
       "male                0.6251      0.064      9.750      0.000       0.499       0.751\n",
       "age                 0.0714      0.004     18.167      0.000       0.064       0.079\n",
       "education          -0.0931      0.029     -3.164      0.002      -0.151      -0.035\n",
       "cigsPerDay          0.0176      0.003      6.701      0.000       0.012       0.023\n",
       "BPMeds              0.4793      0.170      2.823      0.005       0.147       0.812\n",
       "prevalentStroke     0.8444      0.392      2.156      0.031       0.077       1.612\n",
       "prevalentHyp        0.2270      0.086      2.636      0.008       0.058       0.396\n",
       "totChol             0.0023      0.001      3.512      0.000       0.001       0.004\n",
       "sysBP               0.0121      0.002      6.569      0.000       0.009       0.016\n",
       "glucose             0.0055      0.001      4.898      0.000       0.003       0.008\n",
       "===================================================================================\n",
       "\"\"\""
      ]
     },
     "execution_count": 113,
     "metadata": {},
     "output_type": "execute_result"
    }
   ],
   "source": [
    "back_res = back_feat_elem(dfp_constant)\n",
    "back_res.summary()"
   ]
  },
  {
   "cell_type": "code",
   "execution_count": 114,
   "metadata": {},
   "outputs": [
    {
     "data": {
      "text/html": [
       "<div>\n",
       "<style scoped>\n",
       "    .dataframe tbody tr th:only-of-type {\n",
       "        vertical-align: middle;\n",
       "    }\n",
       "\n",
       "    .dataframe tbody tr th {\n",
       "        vertical-align: top;\n",
       "    }\n",
       "\n",
       "    .dataframe thead th {\n",
       "        text-align: right;\n",
       "    }\n",
       "</style>\n",
       "<table border=\"1\" class=\"dataframe\">\n",
       "  <thead>\n",
       "    <tr style=\"text-align: right;\">\n",
       "      <th></th>\n",
       "      <th>male</th>\n",
       "      <th>age</th>\n",
       "      <th>education</th>\n",
       "      <th>cigsPerDay</th>\n",
       "      <th>BPMeds</th>\n",
       "      <th>prevalentStroke</th>\n",
       "      <th>prevalentHyp</th>\n",
       "      <th>totChol</th>\n",
       "      <th>sysBP</th>\n",
       "      <th>glucose</th>\n",
       "      <th>TenYearCHD</th>\n",
       "    </tr>\n",
       "  </thead>\n",
       "  <tbody>\n",
       "    <tr>\n",
       "      <th>0</th>\n",
       "      <td>1.0</td>\n",
       "      <td>39.0</td>\n",
       "      <td>4.0</td>\n",
       "      <td>0.0</td>\n",
       "      <td>0.0</td>\n",
       "      <td>0.0</td>\n",
       "      <td>0.0</td>\n",
       "      <td>195.0</td>\n",
       "      <td>106.0</td>\n",
       "      <td>77.0</td>\n",
       "      <td>0</td>\n",
       "    </tr>\n",
       "    <tr>\n",
       "      <th>1</th>\n",
       "      <td>0.0</td>\n",
       "      <td>46.0</td>\n",
       "      <td>2.0</td>\n",
       "      <td>0.0</td>\n",
       "      <td>0.0</td>\n",
       "      <td>0.0</td>\n",
       "      <td>0.0</td>\n",
       "      <td>250.0</td>\n",
       "      <td>121.0</td>\n",
       "      <td>76.0</td>\n",
       "      <td>0</td>\n",
       "    </tr>\n",
       "    <tr>\n",
       "      <th>2</th>\n",
       "      <td>1.0</td>\n",
       "      <td>48.0</td>\n",
       "      <td>1.0</td>\n",
       "      <td>20.0</td>\n",
       "      <td>0.0</td>\n",
       "      <td>0.0</td>\n",
       "      <td>0.0</td>\n",
       "      <td>245.0</td>\n",
       "      <td>127.5</td>\n",
       "      <td>70.0</td>\n",
       "      <td>0</td>\n",
       "    </tr>\n",
       "    <tr>\n",
       "      <th>3</th>\n",
       "      <td>0.0</td>\n",
       "      <td>61.0</td>\n",
       "      <td>3.0</td>\n",
       "      <td>30.0</td>\n",
       "      <td>0.0</td>\n",
       "      <td>0.0</td>\n",
       "      <td>1.0</td>\n",
       "      <td>225.0</td>\n",
       "      <td>150.0</td>\n",
       "      <td>103.0</td>\n",
       "      <td>1</td>\n",
       "    </tr>\n",
       "    <tr>\n",
       "      <th>4</th>\n",
       "      <td>0.0</td>\n",
       "      <td>46.0</td>\n",
       "      <td>3.0</td>\n",
       "      <td>23.0</td>\n",
       "      <td>0.0</td>\n",
       "      <td>0.0</td>\n",
       "      <td>0.0</td>\n",
       "      <td>285.0</td>\n",
       "      <td>130.0</td>\n",
       "      <td>85.0</td>\n",
       "      <td>0</td>\n",
       "    </tr>\n",
       "  </tbody>\n",
       "</table>\n",
       "</div>"
      ],
      "text/plain": [
       "   male   age  education  cigsPerDay  BPMeds  prevalentStroke  prevalentHyp  \\\n",
       "0   1.0  39.0        4.0         0.0     0.0              0.0           0.0   \n",
       "1   0.0  46.0        2.0         0.0     0.0              0.0           0.0   \n",
       "2   1.0  48.0        1.0        20.0     0.0              0.0           0.0   \n",
       "3   0.0  61.0        3.0        30.0     0.0              0.0           1.0   \n",
       "4   0.0  46.0        3.0        23.0     0.0              0.0           0.0   \n",
       "\n",
       "   totChol  sysBP  glucose  TenYearCHD  \n",
       "0    195.0  106.0     77.0           0  \n",
       "1    250.0  121.0     76.0           0  \n",
       "2    245.0  127.5     70.0           0  \n",
       "3    225.0  150.0    103.0           1  \n",
       "4    285.0  130.0     85.0           0  "
      ]
     },
     "execution_count": 114,
     "metadata": {},
     "output_type": "execute_result"
    }
   ],
   "source": [
    "new_x = dfp_constant[back_res.params.index]\n",
    "new_x.drop(columns=['const'], axis=1, inplace=True)\n",
    "new_y = dfp_constant.TenYearCHD\n",
    "new_df = pd.concat([new_x,new_y], axis=1)\n",
    "new_df.head()"
   ]
  },
  {
   "cell_type": "markdown",
   "metadata": {},
   "source": [
    "Lowering the threshold from 0.5 to a lower value."
   ]
  },
  {
   "cell_type": "code",
   "execution_count": 115,
   "metadata": {},
   "outputs": [],
   "source": [
    "# for i in range(1,6):\n",
    "#     y_pred_yes = logreg.predict_proba(x_test)\n",
    "#     binarize = Binarizer(threshold=i/10)\n",
    "#     y_pred2 = binarize.fit_transform(y_pred_yes)[:,1]\n",
    "\n",
    "#     print(i/10)\n",
    "#     cm_mat = confusion_matrix(y_test, y_pred2)\n",
    "#     cm_data(cm_mat)\n",
    "\n",
    "# 0.2 Threshlod looks good. Might try it later."
   ]
  },
  {
   "cell_type": "markdown",
   "metadata": {},
   "source": [
    "Comparing the Original DataFrame(dfp) and the New DataFrame(new_df) for all the models."
   ]
  },
  {
   "cell_type": "code",
   "execution_count": 116,
   "metadata": {},
   "outputs": [
    {
     "data": {
      "image/png": "[encoded data removed]",
      "text/plain": [
       "<Figure size 720x720 with 2 Axes>"
      ]
     },
     "metadata": {
      "needs_background": "light"
     },
     "output_type": "display_data"
    },
    {
     "name": "stdout",
     "output_type": "stream",
     "text": [
      "Sensitivity:  0.693069306930693\n",
      "Specificity:  0.647244094488189\n",
      "Precision:  0.6521739130434783\n",
      "Accuracy:  0.669621273166801\n"
     ]
    }
   ],
   "source": [
    "grid_search(LogisticRegression(), params_lg, new_df)"
   ]
  },
  {
   "cell_type": "markdown",
   "metadata": {},
   "source": [
    "The Accuracy is very low, So lets try other models."
   ]
  },
  {
   "cell_type": "markdown",
   "metadata": {},
   "source": [
    "##### 2: Decision Tree Classifier"
   ]
  },
  {
   "cell_type": "code",
   "execution_count": 117,
   "metadata": {},
   "outputs": [
    {
     "data": {
      "text/plain": [
       "CategoricalDtype(categories=[0, 1], ordered=False)"
      ]
     },
     "execution_count": 117,
     "metadata": {},
     "output_type": "execute_result"
    }
   ],
   "source": [
    "new_df.TenYearCHD = new_df.TenYearCHD.astype('category')\n",
    "new_df.TenYearCHD.dtype"
   ]
  },
  {
   "cell_type": "code",
   "execution_count": 118,
   "metadata": {},
   "outputs": [
    {
     "data": {
      "text/plain": [
       "CategoricalDtype(categories=[0, 1], ordered=False)"
      ]
     },
     "execution_count": 118,
     "metadata": {},
     "output_type": "execute_result"
    }
   ],
   "source": [
    "dfp.TenYearCHD = dfp.TenYearCHD.astype('category')\n",
    "dfp.TenYearCHD.dtype"
   ]
  },
  {
   "cell_type": "code",
   "execution_count": 119,
   "metadata": {},
   "outputs": [],
   "source": [
    "params_dt = {\n",
    "    'criterion': ['gini','entropy', 'log_loss'],\n",
    "    'splitter': ['best', 'random'],\n",
    "    'max_depth': [3, 6, 9],\n",
    "    'min_samples_leaf': [5, 8, 11],\n",
    "    'max_features': ['sqrt', 'log2'],\n",
    "}"
   ]
  },
  {
   "cell_type": "code",
   "execution_count": 120,
   "metadata": {},
   "outputs": [
    {
     "data": {
      "image/png": "[encoded data removed]",
      "text/plain": [
       "<Figure size 720x720 with 2 Axes>"
      ]
     },
     "metadata": {
      "needs_background": "light"
     },
     "output_type": "display_data"
    },
    {
     "name": "stdout",
     "output_type": "stream",
     "text": [
      "Sensitivity:  0.7607260726072608\n",
      "Specificity:  0.7811023622047244\n",
      "Precision:  0.7683333333333333\n",
      "Accuracy:  0.7711522965350524\n"
     ]
    }
   ],
   "source": [
    "grid_search(DecisionTreeClassifier(), params_dt, dfp)"
   ]
  },
  {
   "cell_type": "code",
   "execution_count": 121,
   "metadata": {},
   "outputs": [
    {
     "data": {
      "image/png": "[encoded data removed]",
      "text/plain": [
       "<Figure size 720x720 with 2 Axes>"
      ]
     },
     "metadata": {
      "needs_background": "light"
     },
     "output_type": "display_data"
    },
    {
     "name": "stdout",
     "output_type": "stream",
     "text": [
      "Sensitivity:  0.7112211221122112\n",
      "Specificity:  0.8645669291338582\n",
      "Precision:  0.8336557059961315\n",
      "Accuracy:  0.7896857373086221\n"
     ]
    }
   ],
   "source": [
    "grid_search(DecisionTreeClassifier(), params_dt, new_df)"
   ]
  },
  {
   "cell_type": "markdown",
   "metadata": {},
   "source": [
    "In Decision Tree, all the confusion matrix parameters are slighlty better for the new DataFrame. \n",
    "and a lot better than Logistic Regression."
   ]
  },
  {
   "cell_type": "markdown",
   "metadata": {},
   "source": [
    "##### 3: KNN Classification"
   ]
  },
  {
   "cell_type": "code",
   "execution_count": 122,
   "metadata": {},
   "outputs": [],
   "source": [
    "params_knn = {\n",
    "    'n_neighbors': [1, 3, 5, 7, 9, 11],\n",
    "    'weights': ['uniform', 'distance'],\n",
    "    'n_jobs': [-1],\n",
    "    'p':[0,1,2,i]\n",
    "}"
   ]
  },
  {
   "cell_type": "code",
   "execution_count": 123,
   "metadata": {},
   "outputs": [
    {
     "data": {
      "image/png": "[encoded data removed]",
      "text/plain": [
       "<Figure size 720x720 with 2 Axes>"
      ]
     },
     "metadata": {
      "needs_background": "light"
     },
     "output_type": "display_data"
    },
    {
     "name": "stdout",
     "output_type": "stream",
     "text": [
      "Sensitivity:  0.976897689768977\n",
      "Specificity:  0.8047244094488188\n",
      "Precision:  0.8268156424581006\n",
      "Accuracy:  0.8887993553585818\n"
     ]
    }
   ],
   "source": [
    "grid_search(KNeighborsClassifier(), params=params_knn, df=dfp)"
   ]
  },
  {
   "cell_type": "code",
   "execution_count": 124,
   "metadata": {},
   "outputs": [
    {
     "data": {
      "image/png": "[encoded data removed]",
      "text/plain": [
       "<Figure size 720x720 with 2 Axes>"
      ]
     },
     "metadata": {
      "needs_background": "light"
     },
     "output_type": "display_data"
    },
    {
     "name": "stdout",
     "output_type": "stream",
     "text": [
      "Sensitivity:  0.9537953795379538\n",
      "Specificity:  0.8535433070866142\n",
      "Precision:  0.8614008941877794\n",
      "Accuracy:  0.9024979854955681\n"
     ]
    }
   ],
   "source": [
    "grid_search(KNeighborsClassifier(), params=params_knn, df=new_df)"
   ]
  },
  {
   "cell_type": "markdown",
   "metadata": {},
   "source": [
    "##### 4: SVM"
   ]
  },
  {
   "cell_type": "code",
   "execution_count": 125,
   "metadata": {},
   "outputs": [],
   "source": [
    "# To be done in the future"
   ]
  },
  {
   "cell_type": "markdown",
   "metadata": {},
   "source": [
    "##### 5: Neural Networks"
   ]
  },
  {
   "cell_type": "code",
   "execution_count": 126,
   "metadata": {},
   "outputs": [],
   "source": [
    "# To be done in the future"
   ]
  },
  {
   "cell_type": "markdown",
   "metadata": {},
   "source": [
    "##### 6: Complex SVM"
   ]
  },
  {
   "cell_type": "code",
   "execution_count": 127,
   "metadata": {},
   "outputs": [],
   "source": [
    "# To be done in the future"
   ]
  },
  {
   "cell_type": "markdown",
   "metadata": {},
   "source": [
    "##### 7: Complex Neural Networks "
   ]
  },
  {
   "cell_type": "code",
   "execution_count": 128,
   "metadata": {},
   "outputs": [],
   "source": [
    "# To be done in the future"
   ]
  },
  {
   "cell_type": "markdown",
   "metadata": {},
   "source": [
    "##### 8: Random Forest Classifier"
   ]
  },
  {
   "cell_type": "markdown",
   "metadata": {},
   "source": [
    "Using GridSearchCV for Random Forest Classifier"
   ]
  },
  {
   "cell_type": "code",
   "execution_count": 129,
   "metadata": {},
   "outputs": [],
   "source": [
    "rf_params = {\n",
    "    'n_estimators': [10, 50, 100, 150, 200],\n",
    "    'criterion': ['gini', 'entropy', 'log_loss'],\n",
    "    'max_depth': [10, 15, 20, 25, 40],\n",
    "    'max_features': ['sqrt', 'log2'],\n",
    "    'bootstrap': [True, False],\n",
    "    'oob_score': [True],\n",
    "    'n_jobs': [3],\n",
    "}"
   ]
  },
  {
   "cell_type": "code",
   "execution_count": 130,
   "metadata": {},
   "outputs": [
    {
     "data": {
      "image/png": "[encoded data removed]",
      "text/plain": [
       "<Figure size 720x720 with 2 Axes>"
      ]
     },
     "metadata": {
      "needs_background": "light"
     },
     "output_type": "display_data"
    },
    {
     "name": "stdout",
     "output_type": "stream",
     "text": [
      "Sensitivity:  0.8729372937293729\n",
      "Specificity:  0.9338582677165355\n",
      "Precision:  0.9264448336252189\n",
      "Accuracy:  0.9041095890410958\n"
     ]
    }
   ],
   "source": [
    "grid_search(RandomForestClassifier(), rf_params, dfp)"
   ]
  },
  {
   "cell_type": "code",
   "execution_count": 131,
   "metadata": {},
   "outputs": [
    {
     "data": {
      "image/png": "[encoded data removed]",
      "text/plain": [
       "<Figure size 720x720 with 2 Axes>"
      ]
     },
     "metadata": {
      "needs_background": "light"
     },
     "output_type": "display_data"
    },
    {
     "name": "stdout",
     "output_type": "stream",
     "text": [
      "Sensitivity:  0.8745874587458746\n",
      "Specificity:  0.9212598425196851\n",
      "Precision:  0.9137931034482759\n",
      "Accuracy:  0.8984689766317486\n"
     ]
    }
   ],
   "source": [
    "grid_search(RandomForestClassifier(), rf_params, new_df)"
   ]
  },
  {
   "cell_type": "markdown",
   "metadata": {},
   "source": [
    "In Random Forest, the old DataFrame (dfp) is slightly better than the new one."
   ]
  },
  {
   "cell_type": "markdown",
   "metadata": {},
   "source": [
    "##### 9: Boosting"
   ]
  },
  {
   "cell_type": "code",
   "execution_count": null,
   "metadata": {},
   "outputs": [],
   "source": []
  }
 ],
 "metadata": {
  "kernelspec": {
   "display_name": "Python 3.10.5 64-bit",
   "language": "python",
   "name": "python3"
  },
  "language_info": {
   "codemirror_mode": {
    "name": "ipython",
    "version": 3
   },
   "file_extension": ".py",
   "mimetype": "text/x-python",
   "name": "python",
   "nbconvert_exporter": "python",
   "pygments_lexer": "ipython3",
   "version": "3.10.5"
  },
  "orig_nbformat": 4,
  "vscode": {
   "interpreter": {
    "hash": "b6213e0af081d56db034f795ff49d96980936e2ae540dda57fc6c3cbea6a5fc9"
   }
  }
 },
 "nbformat": 4,
 "nbformat_minor": 2
}
