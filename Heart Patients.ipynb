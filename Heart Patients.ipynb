{
 "cells": [
  {
   "cell_type": "markdown",
   "metadata": {},
   "source": [
    "## Introduction to the dataset\n",
    "\n",
    "- World Health Organization has  estimated 12 million deaths occur worldwide, every year due to Heart diseases.\n",
    "\n",
    "- Half the deaths in the United States and other developed countries are due to cardio vascular diseases. \n",
    "\n",
    "- The early prognosis of cardiovascular diseases can aid in making decisions on lifestyle changes in high risk patients and in turn reduce the complications.\n",
    "\n",
    "- This research intends to pinpoint the most relevant/risk factors of heart disease as well as predict the overall risk using logistic regression.\n"
   ]
  },
  {
   "cell_type": "code",
   "execution_count": 1,
   "metadata": {},
   "outputs": [],
   "source": [
    "import pandas as pd\n",
    "from collections import Counter\n",
    "import math\n",
    "import numpy as np\n",
    "import statsmodels.api as sm\n",
    "from statsmodels.tools import add_constant as ac\n",
    "import scipy.stats as st\n",
    "import matplotlib.pyplot as plt\n",
    "from sklearn.metrics import confusion_matrix, precision_score, recall_score, f1_score, roc_auc_score, accuracy_score, classification_report,  mean_squared_error, ConfusionMatrixDisplay\n",
    "import seaborn as sns\n",
    "from sklearn.preprocessing import StandardScaler, LabelEncoder, Binarizer\n",
    "sc = StandardScaler()\n",
    "le = LabelEncoder()\n",
    "\n",
    "from sklearn.model_selection import train_test_split, KFold, StratifiedKFold, GridSearchCV, cross_val_score, RandomizedSearchCV\n",
    "from sklearn.linear_model import LogisticRegression\n",
    "from sklearn.pipeline import make_pipeline\n",
    "from imblearn.pipeline import make_pipeline as imbalanced_make_pipeline\n",
    "from imblearn.pipeline import Pipeline as imbpipeline\n",
    "from imblearn.over_sampling import SMOTE\n",
    "from imblearn.under_sampling import NearMiss\n",
    "from collections import Counter\n",
    "from sklearn.ensemble import RandomForestRegressor, RandomForestClassifier, AdaBoostClassifier, BaggingClassifier\n",
    "from sklearn.tree import DecisionTreeClassifier\n",
    "from sklearn.svm import SVC\n",
    "from sklearn.neighbors import KNeighborsClassifier\n",
    "rfr = RandomForestRegressor()\n",
    "rfc = RandomForestClassifier()\n",
    "import warnings\n",
    "warnings.filterwarnings('ignore')"
   ]
  },
  {
   "cell_type": "code",
   "execution_count": 2,
   "metadata": {},
   "outputs": [
    {
     "data": {
      "text/html": [
       "<div>\n",
       "<style scoped>\n",
       "    .dataframe tbody tr th:only-of-type {\n",
       "        vertical-align: middle;\n",
       "    }\n",
       "\n",
       "    .dataframe tbody tr th {\n",
       "        vertical-align: top;\n",
       "    }\n",
       "\n",
       "    .dataframe thead th {\n",
       "        text-align: right;\n",
       "    }\n",
       "</style>\n",
       "<table border=\"1\" class=\"dataframe\">\n",
       "  <thead>\n",
       "    <tr style=\"text-align: right;\">\n",
       "      <th></th>\n",
       "      <th>male</th>\n",
       "      <th>age</th>\n",
       "      <th>education</th>\n",
       "      <th>currentSmoker</th>\n",
       "      <th>cigsPerDay</th>\n",
       "      <th>BPMeds</th>\n",
       "      <th>prevalentStroke</th>\n",
       "      <th>prevalentHyp</th>\n",
       "      <th>diabetes</th>\n",
       "      <th>totChol</th>\n",
       "      <th>sysBP</th>\n",
       "      <th>diaBP</th>\n",
       "      <th>BMI</th>\n",
       "      <th>heartRate</th>\n",
       "      <th>glucose</th>\n",
       "      <th>TenYearCHD</th>\n",
       "    </tr>\n",
       "  </thead>\n",
       "  <tbody>\n",
       "    <tr>\n",
       "      <th>0</th>\n",
       "      <td>1</td>\n",
       "      <td>39</td>\n",
       "      <td>4.0</td>\n",
       "      <td>0</td>\n",
       "      <td>0.0</td>\n",
       "      <td>0.0</td>\n",
       "      <td>0</td>\n",
       "      <td>0</td>\n",
       "      <td>0</td>\n",
       "      <td>195.0</td>\n",
       "      <td>106.0</td>\n",
       "      <td>70.0</td>\n",
       "      <td>26.97</td>\n",
       "      <td>80.0</td>\n",
       "      <td>77.0</td>\n",
       "      <td>0</td>\n",
       "    </tr>\n",
       "    <tr>\n",
       "      <th>1</th>\n",
       "      <td>0</td>\n",
       "      <td>46</td>\n",
       "      <td>2.0</td>\n",
       "      <td>0</td>\n",
       "      <td>0.0</td>\n",
       "      <td>0.0</td>\n",
       "      <td>0</td>\n",
       "      <td>0</td>\n",
       "      <td>0</td>\n",
       "      <td>250.0</td>\n",
       "      <td>121.0</td>\n",
       "      <td>81.0</td>\n",
       "      <td>28.73</td>\n",
       "      <td>95.0</td>\n",
       "      <td>76.0</td>\n",
       "      <td>0</td>\n",
       "    </tr>\n",
       "    <tr>\n",
       "      <th>2</th>\n",
       "      <td>1</td>\n",
       "      <td>48</td>\n",
       "      <td>1.0</td>\n",
       "      <td>1</td>\n",
       "      <td>20.0</td>\n",
       "      <td>0.0</td>\n",
       "      <td>0</td>\n",
       "      <td>0</td>\n",
       "      <td>0</td>\n",
       "      <td>245.0</td>\n",
       "      <td>127.5</td>\n",
       "      <td>80.0</td>\n",
       "      <td>25.34</td>\n",
       "      <td>75.0</td>\n",
       "      <td>70.0</td>\n",
       "      <td>0</td>\n",
       "    </tr>\n",
       "    <tr>\n",
       "      <th>3</th>\n",
       "      <td>0</td>\n",
       "      <td>61</td>\n",
       "      <td>3.0</td>\n",
       "      <td>1</td>\n",
       "      <td>30.0</td>\n",
       "      <td>0.0</td>\n",
       "      <td>0</td>\n",
       "      <td>1</td>\n",
       "      <td>0</td>\n",
       "      <td>225.0</td>\n",
       "      <td>150.0</td>\n",
       "      <td>95.0</td>\n",
       "      <td>28.58</td>\n",
       "      <td>65.0</td>\n",
       "      <td>103.0</td>\n",
       "      <td>1</td>\n",
       "    </tr>\n",
       "    <tr>\n",
       "      <th>4</th>\n",
       "      <td>0</td>\n",
       "      <td>46</td>\n",
       "      <td>3.0</td>\n",
       "      <td>1</td>\n",
       "      <td>23.0</td>\n",
       "      <td>0.0</td>\n",
       "      <td>0</td>\n",
       "      <td>0</td>\n",
       "      <td>0</td>\n",
       "      <td>285.0</td>\n",
       "      <td>130.0</td>\n",
       "      <td>84.0</td>\n",
       "      <td>23.10</td>\n",
       "      <td>85.0</td>\n",
       "      <td>85.0</td>\n",
       "      <td>0</td>\n",
       "    </tr>\n",
       "  </tbody>\n",
       "</table>\n",
       "</div>"
      ],
      "text/plain": [
       "   male  age  education  currentSmoker  cigsPerDay  BPMeds  prevalentStroke  \\\n",
       "0     1   39        4.0              0         0.0     0.0                0   \n",
       "1     0   46        2.0              0         0.0     0.0                0   \n",
       "2     1   48        1.0              1        20.0     0.0                0   \n",
       "3     0   61        3.0              1        30.0     0.0                0   \n",
       "4     0   46        3.0              1        23.0     0.0                0   \n",
       "\n",
       "   prevalentHyp  diabetes  totChol  sysBP  diaBP    BMI  heartRate  glucose  \\\n",
       "0             0         0    195.0  106.0   70.0  26.97       80.0     77.0   \n",
       "1             0         0    250.0  121.0   81.0  28.73       95.0     76.0   \n",
       "2             0         0    245.0  127.5   80.0  25.34       75.0     70.0   \n",
       "3             1         0    225.0  150.0   95.0  28.58       65.0    103.0   \n",
       "4             0         0    285.0  130.0   84.0  23.10       85.0     85.0   \n",
       "\n",
       "   TenYearCHD  \n",
       "0           0  \n",
       "1           0  \n",
       "2           0  \n",
       "3           1  \n",
       "4           0  "
      ]
     },
     "execution_count": 2,
     "metadata": {},
     "output_type": "execute_result"
    }
   ],
   "source": [
    "# Test\n",
    "dfp = pd.read_csv('US_Heart_Patients.csv')\n",
    "dfp.head()"
   ]
  },
  {
   "cell_type": "code",
   "execution_count": 3,
   "metadata": {},
   "outputs": [
    {
     "data": {
      "text/plain": [
       "(4240, 16)"
      ]
     },
     "execution_count": 3,
     "metadata": {},
     "output_type": "execute_result"
    }
   ],
   "source": [
    "dfp.shape"
   ]
  },
  {
   "cell_type": "code",
   "execution_count": 4,
   "metadata": {},
   "outputs": [],
   "source": [
    "target_var = 'TenYearCHD'"
   ]
  },
  {
   "cell_type": "code",
   "execution_count": 5,
   "metadata": {},
   "outputs": [
    {
     "data": {
      "text/html": [
       "<div>\n",
       "<style scoped>\n",
       "    .dataframe tbody tr th:only-of-type {\n",
       "        vertical-align: middle;\n",
       "    }\n",
       "\n",
       "    .dataframe tbody tr th {\n",
       "        vertical-align: top;\n",
       "    }\n",
       "\n",
       "    .dataframe thead th {\n",
       "        text-align: right;\n",
       "    }\n",
       "</style>\n",
       "<table border=\"1\" class=\"dataframe\">\n",
       "  <thead>\n",
       "    <tr style=\"text-align: right;\">\n",
       "      <th></th>\n",
       "      <th>count</th>\n",
       "      <th>mean</th>\n",
       "      <th>std</th>\n",
       "      <th>min</th>\n",
       "      <th>25%</th>\n",
       "      <th>50%</th>\n",
       "      <th>75%</th>\n",
       "      <th>max</th>\n",
       "    </tr>\n",
       "  </thead>\n",
       "  <tbody>\n",
       "    <tr>\n",
       "      <th>male</th>\n",
       "      <td>4240.0</td>\n",
       "      <td>0.429245</td>\n",
       "      <td>0.495027</td>\n",
       "      <td>0.00</td>\n",
       "      <td>0.00</td>\n",
       "      <td>0.0</td>\n",
       "      <td>1.00</td>\n",
       "      <td>1.0</td>\n",
       "    </tr>\n",
       "    <tr>\n",
       "      <th>age</th>\n",
       "      <td>4240.0</td>\n",
       "      <td>49.580189</td>\n",
       "      <td>8.572942</td>\n",
       "      <td>32.00</td>\n",
       "      <td>42.00</td>\n",
       "      <td>49.0</td>\n",
       "      <td>56.00</td>\n",
       "      <td>70.0</td>\n",
       "    </tr>\n",
       "    <tr>\n",
       "      <th>education</th>\n",
       "      <td>4135.0</td>\n",
       "      <td>1.979444</td>\n",
       "      <td>1.019791</td>\n",
       "      <td>1.00</td>\n",
       "      <td>1.00</td>\n",
       "      <td>2.0</td>\n",
       "      <td>3.00</td>\n",
       "      <td>4.0</td>\n",
       "    </tr>\n",
       "    <tr>\n",
       "      <th>currentSmoker</th>\n",
       "      <td>4240.0</td>\n",
       "      <td>0.494104</td>\n",
       "      <td>0.500024</td>\n",
       "      <td>0.00</td>\n",
       "      <td>0.00</td>\n",
       "      <td>0.0</td>\n",
       "      <td>1.00</td>\n",
       "      <td>1.0</td>\n",
       "    </tr>\n",
       "    <tr>\n",
       "      <th>cigsPerDay</th>\n",
       "      <td>4211.0</td>\n",
       "      <td>9.005937</td>\n",
       "      <td>11.922462</td>\n",
       "      <td>0.00</td>\n",
       "      <td>0.00</td>\n",
       "      <td>0.0</td>\n",
       "      <td>20.00</td>\n",
       "      <td>70.0</td>\n",
       "    </tr>\n",
       "    <tr>\n",
       "      <th>BPMeds</th>\n",
       "      <td>4187.0</td>\n",
       "      <td>0.029615</td>\n",
       "      <td>0.169544</td>\n",
       "      <td>0.00</td>\n",
       "      <td>0.00</td>\n",
       "      <td>0.0</td>\n",
       "      <td>0.00</td>\n",
       "      <td>1.0</td>\n",
       "    </tr>\n",
       "    <tr>\n",
       "      <th>prevalentStroke</th>\n",
       "      <td>4240.0</td>\n",
       "      <td>0.005896</td>\n",
       "      <td>0.076569</td>\n",
       "      <td>0.00</td>\n",
       "      <td>0.00</td>\n",
       "      <td>0.0</td>\n",
       "      <td>0.00</td>\n",
       "      <td>1.0</td>\n",
       "    </tr>\n",
       "    <tr>\n",
       "      <th>prevalentHyp</th>\n",
       "      <td>4240.0</td>\n",
       "      <td>0.310613</td>\n",
       "      <td>0.462799</td>\n",
       "      <td>0.00</td>\n",
       "      <td>0.00</td>\n",
       "      <td>0.0</td>\n",
       "      <td>1.00</td>\n",
       "      <td>1.0</td>\n",
       "    </tr>\n",
       "    <tr>\n",
       "      <th>diabetes</th>\n",
       "      <td>4240.0</td>\n",
       "      <td>0.025708</td>\n",
       "      <td>0.158280</td>\n",
       "      <td>0.00</td>\n",
       "      <td>0.00</td>\n",
       "      <td>0.0</td>\n",
       "      <td>0.00</td>\n",
       "      <td>1.0</td>\n",
       "    </tr>\n",
       "    <tr>\n",
       "      <th>totChol</th>\n",
       "      <td>4190.0</td>\n",
       "      <td>236.699523</td>\n",
       "      <td>44.591284</td>\n",
       "      <td>107.00</td>\n",
       "      <td>206.00</td>\n",
       "      <td>234.0</td>\n",
       "      <td>263.00</td>\n",
       "      <td>696.0</td>\n",
       "    </tr>\n",
       "    <tr>\n",
       "      <th>sysBP</th>\n",
       "      <td>4240.0</td>\n",
       "      <td>132.354599</td>\n",
       "      <td>22.033300</td>\n",
       "      <td>83.50</td>\n",
       "      <td>117.00</td>\n",
       "      <td>128.0</td>\n",
       "      <td>144.00</td>\n",
       "      <td>295.0</td>\n",
       "    </tr>\n",
       "    <tr>\n",
       "      <th>diaBP</th>\n",
       "      <td>4240.0</td>\n",
       "      <td>82.897759</td>\n",
       "      <td>11.910394</td>\n",
       "      <td>48.00</td>\n",
       "      <td>75.00</td>\n",
       "      <td>82.0</td>\n",
       "      <td>90.00</td>\n",
       "      <td>142.5</td>\n",
       "    </tr>\n",
       "    <tr>\n",
       "      <th>BMI</th>\n",
       "      <td>4221.0</td>\n",
       "      <td>25.800801</td>\n",
       "      <td>4.079840</td>\n",
       "      <td>15.54</td>\n",
       "      <td>23.07</td>\n",
       "      <td>25.4</td>\n",
       "      <td>28.04</td>\n",
       "      <td>56.8</td>\n",
       "    </tr>\n",
       "    <tr>\n",
       "      <th>heartRate</th>\n",
       "      <td>4239.0</td>\n",
       "      <td>75.878981</td>\n",
       "      <td>12.025348</td>\n",
       "      <td>44.00</td>\n",
       "      <td>68.00</td>\n",
       "      <td>75.0</td>\n",
       "      <td>83.00</td>\n",
       "      <td>143.0</td>\n",
       "    </tr>\n",
       "    <tr>\n",
       "      <th>glucose</th>\n",
       "      <td>3852.0</td>\n",
       "      <td>81.963655</td>\n",
       "      <td>23.954335</td>\n",
       "      <td>40.00</td>\n",
       "      <td>71.00</td>\n",
       "      <td>78.0</td>\n",
       "      <td>87.00</td>\n",
       "      <td>394.0</td>\n",
       "    </tr>\n",
       "    <tr>\n",
       "      <th>TenYearCHD</th>\n",
       "      <td>4240.0</td>\n",
       "      <td>0.151887</td>\n",
       "      <td>0.358953</td>\n",
       "      <td>0.00</td>\n",
       "      <td>0.00</td>\n",
       "      <td>0.0</td>\n",
       "      <td>0.00</td>\n",
       "      <td>1.0</td>\n",
       "    </tr>\n",
       "  </tbody>\n",
       "</table>\n",
       "</div>"
      ],
      "text/plain": [
       "                  count        mean        std     min     25%    50%     75%  \\\n",
       "male             4240.0    0.429245   0.495027    0.00    0.00    0.0    1.00   \n",
       "age              4240.0   49.580189   8.572942   32.00   42.00   49.0   56.00   \n",
       "education        4135.0    1.979444   1.019791    1.00    1.00    2.0    3.00   \n",
       "currentSmoker    4240.0    0.494104   0.500024    0.00    0.00    0.0    1.00   \n",
       "cigsPerDay       4211.0    9.005937  11.922462    0.00    0.00    0.0   20.00   \n",
       "BPMeds           4187.0    0.029615   0.169544    0.00    0.00    0.0    0.00   \n",
       "prevalentStroke  4240.0    0.005896   0.076569    0.00    0.00    0.0    0.00   \n",
       "prevalentHyp     4240.0    0.310613   0.462799    0.00    0.00    0.0    1.00   \n",
       "diabetes         4240.0    0.025708   0.158280    0.00    0.00    0.0    0.00   \n",
       "totChol          4190.0  236.699523  44.591284  107.00  206.00  234.0  263.00   \n",
       "sysBP            4240.0  132.354599  22.033300   83.50  117.00  128.0  144.00   \n",
       "diaBP            4240.0   82.897759  11.910394   48.00   75.00   82.0   90.00   \n",
       "BMI              4221.0   25.800801   4.079840   15.54   23.07   25.4   28.04   \n",
       "heartRate        4239.0   75.878981  12.025348   44.00   68.00   75.0   83.00   \n",
       "glucose          3852.0   81.963655  23.954335   40.00   71.00   78.0   87.00   \n",
       "TenYearCHD       4240.0    0.151887   0.358953    0.00    0.00    0.0    0.00   \n",
       "\n",
       "                   max  \n",
       "male               1.0  \n",
       "age               70.0  \n",
       "education          4.0  \n",
       "currentSmoker      1.0  \n",
       "cigsPerDay        70.0  \n",
       "BPMeds             1.0  \n",
       "prevalentStroke    1.0  \n",
       "prevalentHyp       1.0  \n",
       "diabetes           1.0  \n",
       "totChol          696.0  \n",
       "sysBP            295.0  \n",
       "diaBP            142.5  \n",
       "BMI               56.8  \n",
       "heartRate        143.0  \n",
       "glucose          394.0  \n",
       "TenYearCHD         1.0  "
      ]
     },
     "execution_count": 5,
     "metadata": {},
     "output_type": "execute_result"
    }
   ],
   "source": [
    "dfp.describe().T"
   ]
  },
  {
   "cell_type": "code",
   "execution_count": 6,
   "metadata": {},
   "outputs": [],
   "source": [
    "def cm_data(cm):\n",
    "    tn = cm[0, 0]\n",
    "    fp = cm[0, 1]\n",
    "    fn = cm[1, 0]\n",
    "    tp = cm[1, 1]\n",
    "    print(\"Sensitivity: \", tp/(tp+fn))\n",
    "    print(\"Specificity: \",tn/(tn+fp))\n",
    "    print(\"Precision: \", tp/(tp+fp))\n",
    "    print(\"Accuracy: \", (tp+tn)/(tp+tn+fp+fn))"
   ]
  },
  {
   "cell_type": "code",
   "execution_count": 7,
   "metadata": {},
   "outputs": [],
   "source": [
    "def check_accuracy(test, pred, conf_mat = 'no'):\n",
    "    acc = accuracy_score(test, pred)\n",
    "    if conf_mat == 'yes':\n",
    "        cm = confusion_matrix(test, pred)\n",
    "        cm_df = pd.DataFrame(cm, columns=['Pred: 0', 'Pred: 1'], index = ['Obs: 0', 'Obs: 1'])\n",
    "        # plt.figure(figsize=(10, 10))\n",
    "        sns.heatmap(cm_df, annot=True, fmt='d')\n",
    "        plt.show()\n",
    "        cm_data(cm)\n",
    "    return acc\n",
    "    "
   ]
  },
  {
   "cell_type": "code",
   "execution_count": 8,
   "metadata": {},
   "outputs": [],
   "source": [
    "# # After the above function has run this function would be called and it would \n",
    "# # print all accuracies along with the best one.\n",
    "\n",
    "# def print_best(name, x):\n",
    "#     print(\"No Sampling Done  :\", x['not'])\n",
    "#     print(\"Over              :\", x['o'])\n",
    "#     print(\"Under             :\", x['u'])\n",
    "#     print(\"Both              :\", x['b'])\n",
    "\n",
    "#     code = {\n",
    "#         'not': 'No Sampling Done',\n",
    "#         'o': 'SMOTE',\n",
    "#         'u': 'NearMiss',\n",
    "#         'b': 'SMOTE and Then NearMiss'\n",
    "#     }\n",
    "#     print(\"\\nBest way in {} model is:\".format(str(name)[:-2]), code[max(zip(x.values(), x.keys()))[1]])"
   ]
  },
  {
   "cell_type": "code",
   "execution_count": 9,
   "metadata": {},
   "outputs": [],
   "source": [
    "# # Purpose of the function is to determine which balancing technique is working the best.\n",
    "# # If we find one we would then rerun the function with that accuracy.\n",
    "\n",
    "# def all_samp_acc(model, params, df, cm = 'no'):\n",
    "\n",
    "#     if cm == 'yes':\n",
    "#         print(\"No Sampling: \")        \n",
    "#     _, no_samp_acc = rand_search(model = model, params = params, df = df, encod = 'd', cm=cm)\n",
    "    \n",
    "#     if cm == 'yes':\n",
    "#         print(\"SMOTE: \")\n",
    "#     _, over_samp_acc = rand_search(model = model, params = params, df = df, samp = 'o', encod = 'd', cm=cm)\n",
    "    \n",
    "#     if cm == 'yes':\n",
    "#         print(\"NearMiss: \")\n",
    "#     _, under_samp_acc = rand_search(model = model, params = params, df = df, samp = 'u', encod = 'd', cm=cm)\n",
    "    \n",
    "#     if cm == 'yes':\n",
    "#         print(\"Both: \")\n",
    "#     _, both_samp_acc = rand_search(model = model, params = params, df = df, samp = 'b', encod = 'd', cm=cm)\n",
    "    \n",
    "#     acc = {\n",
    "#     'not': no_samp_acc,\n",
    "#     'o': over_samp_acc,\n",
    "#     'u': under_samp_acc,\n",
    "#     'b': both_samp_acc\n",
    "#     }\n",
    "#     print_best(model, acc)  "
   ]
  },
  {
   "cell_type": "code",
   "execution_count": 10,
   "metadata": {},
   "outputs": [],
   "source": [
    "# Check Multicollinearilty\n",
    "\n",
    "def check_multicol(x):\n",
    "    plt.figure(figsize=(20, 10))\n",
    "    sns.heatmap(x.corr(), annot=True)\n",
    "    plt.show()"
   ]
  },
  {
   "cell_type": "code",
   "execution_count": 11,
   "metadata": {},
   "outputs": [],
   "source": [
    "# Implementing SMOTE\n",
    "\n",
    "def smote(x, y):\n",
    "    oversample = SMOTE(random_state = 2, sampling_strategy='minority')\n",
    "    x = x.values\n",
    "    y = y.values\n",
    "    x, y = oversample.fit_resample(x, y)\n",
    "    return x, y"
   ]
  },
  {
   "cell_type": "code",
   "execution_count": 12,
   "metadata": {},
   "outputs": [],
   "source": [
    "# Implementing NearMiss\n",
    "\n",
    "def near_miss(x, y):\n",
    "    nr = NearMiss() \n",
    "    x_near, y_near= nr.fit_resample(x, y)\n",
    "    return x_near, y_near"
   ]
  },
  {
   "cell_type": "code",
   "execution_count": 13,
   "metadata": {},
   "outputs": [],
   "source": [
    "def rand_search(model, params, df, encod = 'd', samp = None, cm = 'no'):\n",
    "\n",
    "    x = df.loc[:, df.columns != target_var]\n",
    "    y = df.loc[:, target_var]\n",
    "\n",
    "    if encod == 'l':\n",
    "        x = x.apply(LabelEncoder().fit_transform)\n",
    "        x = x.apply(LabelEncoder().transform)\n",
    "    else:\n",
    "        x = pd.get_dummies(x, drop_first=True)\n",
    "        x = pd.get_dummies(x, drop_first=True)\n",
    "    \n",
    "    if samp != None:\n",
    "        if samp == 'o':\n",
    "            x, y = smote(x, y)\n",
    "        elif samp == 'u':\n",
    "            x, y = near_miss(x, y)\n",
    "        elif samp == 'b':\n",
    "            x, y = smote(x, y)\n",
    "            x, y = near_miss(x, y)\n",
    "    \n",
    "    x = pd.DataFrame(x)\n",
    "    y = pd.DataFrame(y, columns=['TenYearCHD'])\n",
    "    \n",
    "    x_train, x_test, y_train, y_test = split_data(pd.concat([x, y], axis=1))\n",
    "\n",
    "    x_train = sc.fit_transform(x_train)\n",
    "    x_test = sc.transform(x_test)\n",
    "    grid_mod = RandomizedSearchCV(model, param_distributions=params, scoring = ['accuracy', 'f1'], cv = 10, n_jobs=-1, refit='accuracy')\n",
    "    \n",
    "    grid_mod.fit(x_train, y_train)\n",
    "\n",
    "    y_pred = grid_mod.predict(x_test)\n",
    "\n",
    "    if cm == 'yes':\n",
    "        acc = check_accuracy(y_test, y_pred, conf_mat = 'yes')\n",
    "\n",
    "    return grid_mod.best_estimator_, acc"
   ]
  },
  {
   "cell_type": "code",
   "execution_count": 14,
   "metadata": {},
   "outputs": [],
   "source": [
    "def split_data(df, y = target_var):\n",
    "    x = df.loc[:, df.columns != y]\n",
    "    y = df.loc[:, y]\n",
    "\n",
    "    x_train, x_test, y_train, y_test = train_test_split(x, y, test_size = 0.2, random_state = 123)\n",
    "    # x_train, x_val, y_train, y_val =  train_test_split(x_train, y_train, test_size = 0.2, random_state = 123)\n",
    "\n",
    "    return x_train, x_test, y_train, y_test"
   ]
  },
  {
   "cell_type": "markdown",
   "metadata": {},
   "source": [
    "###  EDA and Feature Engineering"
   ]
  },
  {
   "cell_type": "markdown",
   "metadata": {},
   "source": [
    "#### Univariate Analysis"
   ]
  },
  {
   "cell_type": "code",
   "execution_count": 15,
   "metadata": {},
   "outputs": [
    {
     "name": "stdout",
     "output_type": "stream",
     "text": [
      "<class 'pandas.core.frame.DataFrame'>\n",
      "RangeIndex: 4240 entries, 0 to 4239\n",
      "Data columns (total 16 columns):\n",
      " #   Column           Non-Null Count  Dtype   \n",
      "---  ------           --------------  -----   \n",
      " 0   male             4240 non-null   category\n",
      " 1   age              4240 non-null   int64   \n",
      " 2   education        4135 non-null   category\n",
      " 3   currentSmoker    4240 non-null   category\n",
      " 4   cigsPerDay       4211 non-null   float64 \n",
      " 5   BPMeds           4187 non-null   category\n",
      " 6   prevalentStroke  4240 non-null   category\n",
      " 7   prevalentHyp     4240 non-null   category\n",
      " 8   diabetes         4240 non-null   category\n",
      " 9   totChol          4190 non-null   float64 \n",
      " 10  sysBP            4240 non-null   float64 \n",
      " 11  diaBP            4240 non-null   float64 \n",
      " 12  BMI              4221 non-null   float64 \n",
      " 13  heartRate        4239 non-null   float64 \n",
      " 14  glucose          3852 non-null   float64 \n",
      " 15  TenYearCHD       4240 non-null   category\n",
      "dtypes: category(8), float64(7), int64(1)\n",
      "memory usage: 299.3 KB\n"
     ]
    }
   ],
   "source": [
    "# Caonverting object and numerical to category\n",
    "\n",
    "to_be_cat = ['male', 'education', 'currentSmoker', 'BPMeds', 'prevalentStroke', 'prevalentHyp', 'diabetes', 'TenYearCHD']\n",
    "dfp[to_be_cat]= dfp[to_be_cat].astype('category')\n",
    "dfp.info()"
   ]
  },
  {
   "cell_type": "code",
   "execution_count": 16,
   "metadata": {},
   "outputs": [],
   "source": [
    "not_to_plot = [] # contains column names which are not to be plotted. In this case we have none.\n",
    "rand_color = ['red', 'blue', 'green']"
   ]
  },
  {
   "cell_type": "code",
   "execution_count": 17,
   "metadata": {},
   "outputs": [],
   "source": [
    "def univariate(df, rows = 4, cols = 4):\n",
    "    fig=plt.figure(figsize=(20,20))\n",
    "    for j, i in enumerate(df.columns):\n",
    "        ax=fig.add_subplot(rows,cols,j+1)\n",
    "        if i in df.select_dtypes(['category']):\n",
    "            sns.countplot(x= i, data = df, ax=ax)\n",
    "        if i in df.select_dtypes(['int', 'float64']):\n",
    "            sns.distplot(x = df[i], ax=ax, color=np.random.choice(rand_color))\n",
    "    fig.tight_layout() \n",
    "    plt.show()"
   ]
  },
  {
   "cell_type": "code",
   "execution_count": 18,
   "metadata": {},
   "outputs": [
    {
     "data": {
      "image/png": "[encoded data removed]",
      "text/plain": [
       "<Figure size 1440x1440 with 16 Axes>"
      ]
     },
     "metadata": {
      "needs_background": "light"
     },
     "output_type": "display_data"
    }
   ],
   "source": [
    "univariate(dfp)"
   ]
  },
  {
   "cell_type": "markdown",
   "metadata": {},
   "source": [
    "#### Bivariate Analysis"
   ]
  },
  {
   "cell_type": "code",
   "execution_count": 19,
   "metadata": {},
   "outputs": [],
   "source": [
    "def bivariate(df = dfp, y = target_var, cols = 4, rows = 4):\n",
    "    temp = not_to_plot[:]\n",
    "    temp.append(y)\n",
    "    fig=plt.figure(figsize=(25,20))\n",
    "\n",
    "    for j, i in enumerate(df.columns):\n",
    "        if df[y].dtype == 'float':\n",
    "            if i in df.select_dtypes(['category']):\n",
    "                if (i not in temp): \n",
    "                    ax=fig.add_subplot(rows,cols,j+1)\n",
    "                    sns.boxplot(x = i, y = y, data = df)\n",
    "\n",
    "            if i in df.select_dtypes(['float', 'int']):                \n",
    "                if (i not in temp):      \n",
    "                    ax=fig.add_subplot(rows,cols,j+1)       \n",
    "                    sns.scatterplot(x = y, y = i, data = df)                  \n",
    "            \n",
    "        elif df[y].dtype == 'category':\n",
    "            if i in df.select_dtypes(['category']):\n",
    "                if (i not in temp):\n",
    "                    ax=fig.add_subplot(rows,cols,j+1)\n",
    "                    sns.countplot(x = i, hue = y, data = df)\n",
    "                    plt.legend(bbox_to_anchor=(1, 1), loc=2, labels=['Not Survived', 'Survived'], borderaxespad=0.)\n",
    "\n",
    "            if i in df.select_dtypes(['float', 'int']):\n",
    "                if (i not in temp):\n",
    "                    ax=fig.add_subplot(rows,cols,j+1)\n",
    "                    sns.boxplot(x = y, y = i, data = df)\n",
    "    fig.tight_layout() \n",
    "    plt.show()"
   ]
  },
  {
   "cell_type": "code",
   "execution_count": 20,
   "metadata": {},
   "outputs": [
    {
     "data": {
      "image/png": "[encoded data removed]",
      "text/plain": [
       "<Figure size 1800x1440 with 15 Axes>"
      ]
     },
     "metadata": {
      "needs_background": "light"
     },
     "output_type": "display_data"
    }
   ],
   "source": [
    "bivariate()"
   ]
  },
  {
   "cell_type": "markdown",
   "metadata": {},
   "source": [
    "#### Missing Values"
   ]
  },
  {
   "cell_type": "code",
   "execution_count": 21,
   "metadata": {},
   "outputs": [
    {
     "data": {
      "text/plain": [
       "male                 0\n",
       "age                  0\n",
       "education          105\n",
       "currentSmoker        0\n",
       "cigsPerDay          29\n",
       "BPMeds              53\n",
       "prevalentStroke      0\n",
       "prevalentHyp         0\n",
       "diabetes             0\n",
       "totChol             50\n",
       "sysBP                0\n",
       "diaBP                0\n",
       "BMI                 19\n",
       "heartRate            1\n",
       "glucose            388\n",
       "TenYearCHD           0\n",
       "dtype: int64"
      ]
     },
     "execution_count": 21,
     "metadata": {},
     "output_type": "execute_result"
    }
   ],
   "source": [
    "dfp.isnull().sum()"
   ]
  },
  {
   "cell_type": "code",
   "execution_count": 22,
   "metadata": {},
   "outputs": [
    {
     "name": "stdout",
     "output_type": "stream",
     "text": [
      "education % :  2.4764150943396226\n",
      "cigsPerDay % :  0.6839622641509434\n",
      "BPMeds % :  1.25\n",
      "totChol % :  1.179245283018868\n",
      "BMI % :  0.4481132075471698\n",
      "heartRate % :  0.02358490566037736\n",
      "glucose % :  9.150943396226415\n"
     ]
    }
   ],
   "source": [
    "# % of all missing var\n",
    "miss_df = pd.DataFrame(dfp.isnull().sum(), columns=['Miss_Values'])\n",
    "for i in miss_df.index:\n",
    "    val = miss_df._get_value(i, miss_df.columns[0]) \n",
    "    if val > 0:\n",
    "        print(i, \"% : \", val*100/dfp.shape[0])"
   ]
  },
  {
   "cell_type": "code",
   "execution_count": 23,
   "metadata": {},
   "outputs": [
    {
     "data": {
      "text/plain": [
       "male               0\n",
       "age                0\n",
       "education          0\n",
       "currentSmoker      0\n",
       "cigsPerDay         0\n",
       "BPMeds             0\n",
       "prevalentStroke    0\n",
       "prevalentHyp       0\n",
       "diabetes           0\n",
       "totChol            0\n",
       "sysBP              0\n",
       "diaBP              0\n",
       "BMI                0\n",
       "heartRate          0\n",
       "glucose            0\n",
       "TenYearCHD         0\n",
       "dtype: int64"
      ]
     },
     "execution_count": 23,
     "metadata": {},
     "output_type": "execute_result"
    }
   ],
   "source": [
    "# Case 1: Drop All Null Values.\n",
    "dfp.dropna(inplace=True)\n",
    "dfp.isnull().sum()"
   ]
  },
  {
   "cell_type": "code",
   "execution_count": 24,
   "metadata": {},
   "outputs": [
    {
     "data": {
      "text/html": [
       "<div>\n",
       "<style scoped>\n",
       "    .dataframe tbody tr th:only-of-type {\n",
       "        vertical-align: middle;\n",
       "    }\n",
       "\n",
       "    .dataframe tbody tr th {\n",
       "        vertical-align: top;\n",
       "    }\n",
       "\n",
       "    .dataframe thead th {\n",
       "        text-align: right;\n",
       "    }\n",
       "</style>\n",
       "<table border=\"1\" class=\"dataframe\">\n",
       "  <thead>\n",
       "    <tr style=\"text-align: right;\">\n",
       "      <th></th>\n",
       "      <th>male</th>\n",
       "      <th>age</th>\n",
       "      <th>education</th>\n",
       "      <th>currentSmoker</th>\n",
       "      <th>cigsPerDay</th>\n",
       "      <th>BPMeds</th>\n",
       "      <th>prevalentStroke</th>\n",
       "      <th>prevalentHyp</th>\n",
       "      <th>diabetes</th>\n",
       "      <th>totChol</th>\n",
       "      <th>sysBP</th>\n",
       "      <th>diaBP</th>\n",
       "      <th>BMI</th>\n",
       "      <th>heartRate</th>\n",
       "      <th>glucose</th>\n",
       "      <th>TenYearCHD</th>\n",
       "    </tr>\n",
       "  </thead>\n",
       "  <tbody>\n",
       "    <tr>\n",
       "      <th>0</th>\n",
       "      <td>1</td>\n",
       "      <td>39</td>\n",
       "      <td>4.0</td>\n",
       "      <td>0</td>\n",
       "      <td>0.0</td>\n",
       "      <td>0.0</td>\n",
       "      <td>0</td>\n",
       "      <td>0</td>\n",
       "      <td>0</td>\n",
       "      <td>195.0</td>\n",
       "      <td>106.0</td>\n",
       "      <td>70.0</td>\n",
       "      <td>26.97</td>\n",
       "      <td>80.0</td>\n",
       "      <td>77.0</td>\n",
       "      <td>0</td>\n",
       "    </tr>\n",
       "    <tr>\n",
       "      <th>1</th>\n",
       "      <td>0</td>\n",
       "      <td>46</td>\n",
       "      <td>2.0</td>\n",
       "      <td>0</td>\n",
       "      <td>0.0</td>\n",
       "      <td>0.0</td>\n",
       "      <td>0</td>\n",
       "      <td>0</td>\n",
       "      <td>0</td>\n",
       "      <td>250.0</td>\n",
       "      <td>121.0</td>\n",
       "      <td>81.0</td>\n",
       "      <td>28.73</td>\n",
       "      <td>95.0</td>\n",
       "      <td>76.0</td>\n",
       "      <td>0</td>\n",
       "    </tr>\n",
       "    <tr>\n",
       "      <th>2</th>\n",
       "      <td>1</td>\n",
       "      <td>48</td>\n",
       "      <td>1.0</td>\n",
       "      <td>1</td>\n",
       "      <td>20.0</td>\n",
       "      <td>0.0</td>\n",
       "      <td>0</td>\n",
       "      <td>0</td>\n",
       "      <td>0</td>\n",
       "      <td>245.0</td>\n",
       "      <td>127.5</td>\n",
       "      <td>80.0</td>\n",
       "      <td>25.34</td>\n",
       "      <td>75.0</td>\n",
       "      <td>70.0</td>\n",
       "      <td>0</td>\n",
       "    </tr>\n",
       "    <tr>\n",
       "      <th>3</th>\n",
       "      <td>0</td>\n",
       "      <td>61</td>\n",
       "      <td>3.0</td>\n",
       "      <td>1</td>\n",
       "      <td>30.0</td>\n",
       "      <td>0.0</td>\n",
       "      <td>0</td>\n",
       "      <td>1</td>\n",
       "      <td>0</td>\n",
       "      <td>225.0</td>\n",
       "      <td>150.0</td>\n",
       "      <td>95.0</td>\n",
       "      <td>28.58</td>\n",
       "      <td>65.0</td>\n",
       "      <td>103.0</td>\n",
       "      <td>1</td>\n",
       "    </tr>\n",
       "    <tr>\n",
       "      <th>4</th>\n",
       "      <td>0</td>\n",
       "      <td>46</td>\n",
       "      <td>3.0</td>\n",
       "      <td>1</td>\n",
       "      <td>23.0</td>\n",
       "      <td>0.0</td>\n",
       "      <td>0</td>\n",
       "      <td>0</td>\n",
       "      <td>0</td>\n",
       "      <td>285.0</td>\n",
       "      <td>130.0</td>\n",
       "      <td>84.0</td>\n",
       "      <td>23.10</td>\n",
       "      <td>85.0</td>\n",
       "      <td>85.0</td>\n",
       "      <td>0</td>\n",
       "    </tr>\n",
       "  </tbody>\n",
       "</table>\n",
       "</div>"
      ],
      "text/plain": [
       "  male  age education currentSmoker  cigsPerDay BPMeds prevalentStroke  \\\n",
       "0    1   39       4.0             0         0.0    0.0               0   \n",
       "1    0   46       2.0             0         0.0    0.0               0   \n",
       "2    1   48       1.0             1        20.0    0.0               0   \n",
       "3    0   61       3.0             1        30.0    0.0               0   \n",
       "4    0   46       3.0             1        23.0    0.0               0   \n",
       "\n",
       "  prevalentHyp diabetes  totChol  sysBP  diaBP    BMI  heartRate  glucose  \\\n",
       "0            0        0    195.0  106.0   70.0  26.97       80.0     77.0   \n",
       "1            0        0    250.0  121.0   81.0  28.73       95.0     76.0   \n",
       "2            0        0    245.0  127.5   80.0  25.34       75.0     70.0   \n",
       "3            1        0    225.0  150.0   95.0  28.58       65.0    103.0   \n",
       "4            0        0    285.0  130.0   84.0  23.10       85.0     85.0   \n",
       "\n",
       "   TenYearCHD  \n",
       "0           0  \n",
       "1           0  \n",
       "2           0  \n",
       "3           1  \n",
       "4           0  "
      ]
     },
     "execution_count": 24,
     "metadata": {},
     "output_type": "execute_result"
    }
   ],
   "source": [
    "dfp.TenYearCHD = le.fit_transform(dfp.TenYearCHD)\n",
    "dfp.head()"
   ]
  },
  {
   "cell_type": "code",
   "execution_count": 25,
   "metadata": {},
   "outputs": [
    {
     "name": "stdout",
     "output_type": "stream",
     "text": [
      "<class 'pandas.core.frame.DataFrame'>\n",
      "Int64Index: 3658 entries, 0 to 4239\n",
      "Data columns (total 16 columns):\n",
      " #   Column           Non-Null Count  Dtype   \n",
      "---  ------           --------------  -----   \n",
      " 0   male             3658 non-null   category\n",
      " 1   age              3658 non-null   int64   \n",
      " 2   education        3658 non-null   category\n",
      " 3   currentSmoker    3658 non-null   category\n",
      " 4   cigsPerDay       3658 non-null   float64 \n",
      " 5   BPMeds           3658 non-null   category\n",
      " 6   prevalentStroke  3658 non-null   category\n",
      " 7   prevalentHyp     3658 non-null   category\n",
      " 8   diabetes         3658 non-null   category\n",
      " 9   totChol          3658 non-null   float64 \n",
      " 10  sysBP            3658 non-null   float64 \n",
      " 11  diaBP            3658 non-null   float64 \n",
      " 12  BMI              3658 non-null   float64 \n",
      " 13  heartRate        3658 non-null   float64 \n",
      " 14  glucose          3658 non-null   float64 \n",
      " 15  TenYearCHD       3658 non-null   int64   \n",
      "dtypes: category(7), float64(7), int64(2)\n",
      "memory usage: 311.7 KB\n"
     ]
    }
   ],
   "source": [
    "dfp.info()"
   ]
  },
  {
   "cell_type": "markdown",
   "metadata": {},
   "source": [
    "#### Model Building"
   ]
  },
  {
   "cell_type": "markdown",
   "metadata": {},
   "source": [
    "##### 1. Logistic Regression"
   ]
  },
  {
   "cell_type": "code",
   "execution_count": 26,
   "metadata": {},
   "outputs": [
    {
     "name": "stdout",
     "output_type": "stream",
     "text": [
      "Optimization terminated successfully.\n",
      "         Current function value: 0.377227\n",
      "         Iterations 7\n",
      "                           Logit Regression Results                           \n",
      "==============================================================================\n",
      "Dep. Variable:             TenYearCHD   No. Observations:                 3658\n",
      "Model:                          Logit   Df Residuals:                     3642\n",
      "Method:                           MLE   Df Model:                           15\n",
      "Date:                Wed, 03 Aug 2022   Pseudo R-squ.:                  0.1158\n",
      "Time:                        00:50:21   Log-Likelihood:                -1379.9\n",
      "converged:                       True   LL-Null:                       -1560.6\n",
      "Covariance Type:            nonrobust   LLR p-value:                 8.668e-68\n",
      "===================================================================================\n",
      "                      coef    std err          z      P>|z|      [0.025      0.975]\n",
      "-----------------------------------------------------------------------------------\n",
      "const              -4.5825      0.294    -15.571      0.000      -5.159      -4.006\n",
      "male                0.5331      0.109      4.871      0.000       0.319       0.748\n",
      "age                 0.0639      0.007      9.531      0.000       0.051       0.077\n",
      "education          -0.0467      0.049     -0.947      0.344      -0.143       0.050\n",
      "currentSmoker      -0.1036      0.193     -0.536      0.592      -0.482       0.275\n",
      "cigsPerDay          0.0309      0.010      3.155      0.002       0.012       0.050\n",
      "BPMeds              0.1858      0.232      0.800      0.424      -0.270       0.641\n",
      "prevalentStroke     0.6830      0.490      1.395      0.163      -0.277       1.642\n",
      "prevalentHyp        0.2222      0.141      1.575      0.115      -0.054       0.499\n",
      "diabetes            0.2758      0.287      0.960      0.337      -0.287       0.839\n",
      "totChol             0.0021      0.001      1.754      0.079      -0.000       0.004\n",
      "sysBP               0.0082      0.002      3.975      0.000       0.004       0.012\n",
      "diaBP              -0.0020      0.003     -0.600      0.549      -0.008       0.005\n",
      "BMI              7.559e-05      0.000      0.427      0.670      -0.000       0.000\n",
      "heartRate          -0.0033      0.004     -0.776      0.438      -0.012       0.005\n",
      "glucose             0.0080      0.003      2.471      0.013       0.002       0.014\n",
      "===================================================================================\n"
     ]
    }
   ],
   "source": [
    "x = dfp.loc[:, dfp.columns != target_var]\n",
    "y = dfp.loc[:, target_var]\n",
    "\n",
    "x = x.apply(LabelEncoder().fit_transform)\n",
    "\n",
    "model = sm.Logit(y, ac(x))\n",
    "res = model.fit()\n",
    "\n",
    "print(res.summary())"
   ]
  },
  {
   "cell_type": "code",
   "execution_count": 27,
   "metadata": {},
   "outputs": [],
   "source": [
    "# Removing cols with p-value more than 0.05\n",
    "\n",
    "def back_feat_elem(df = dfp, y = target_var):\n",
    "    x = df.loc[:, df.columns != y]\n",
    "    y = df.loc[:, y]\n",
    "\n",
    "    x = x.apply(LabelEncoder().fit_transform)\n",
    "\n",
    "    col = x.columns\n",
    "\n",
    "    while len(col) > 0:\n",
    "        model = sm.Logit(y, ac(x[col]))\n",
    "        result = model.fit(disp= 0)\n",
    "        largest_pvalue = round(result.pvalues, 3).nlargest(1)\n",
    "        if largest_pvalue[0] < (0.05):\n",
    "            return result\n",
    "            break\n",
    "        else:\n",
    "            col = col.drop(largest_pvalue.index)  "
   ]
  },
  {
   "cell_type": "code",
   "execution_count": 28,
   "metadata": {},
   "outputs": [
    {
     "data": {
      "text/html": [
       "<table class=\"simpletable\">\n",
       "<caption>Logit Regression Results</caption>\n",
       "<tr>\n",
       "  <th>Dep. Variable:</th>      <td>TenYearCHD</td>    <th>  No. Observations:  </th>  <td>  3658</td>  \n",
       "</tr>\n",
       "<tr>\n",
       "  <th>Model:</th>                 <td>Logit</td>      <th>  Df Residuals:      </th>  <td>  3652</td>  \n",
       "</tr>\n",
       "<tr>\n",
       "  <th>Method:</th>                 <td>MLE</td>       <th>  Df Model:          </th>  <td>     5</td>  \n",
       "</tr>\n",
       "<tr>\n",
       "  <th>Date:</th>            <td>Wed, 03 Aug 2022</td> <th>  Pseudo R-squ.:     </th>  <td>0.1119</td>  \n",
       "</tr>\n",
       "<tr>\n",
       "  <th>Time:</th>                <td>00:50:22</td>     <th>  Log-Likelihood:    </th> <td> -1385.9</td> \n",
       "</tr>\n",
       "<tr>\n",
       "  <th>converged:</th>             <td>True</td>       <th>  LL-Null:           </th> <td> -1560.6</td> \n",
       "</tr>\n",
       "<tr>\n",
       "  <th>Covariance Type:</th>     <td>nonrobust</td>    <th>  LLR p-value:       </th> <td>2.417e-73</td>\n",
       "</tr>\n",
       "</table>\n",
       "<table class=\"simpletable\">\n",
       "<tr>\n",
       "       <td></td>         <th>coef</th>     <th>std err</th>      <th>z</th>      <th>P>|z|</th>  <th>[0.025</th>    <th>0.975]</th>  \n",
       "</tr>\n",
       "<tr>\n",
       "  <th>const</th>      <td>   -4.7474</td> <td>    0.201</td> <td>  -23.649</td> <td> 0.000</td> <td>   -5.141</td> <td>   -4.354</td>\n",
       "</tr>\n",
       "<tr>\n",
       "  <th>male</th>       <td>    0.5235</td> <td>    0.105</td> <td>    4.976</td> <td> 0.000</td> <td>    0.317</td> <td>    0.730</td>\n",
       "</tr>\n",
       "<tr>\n",
       "  <th>age</th>        <td>    0.0678</td> <td>    0.006</td> <td>   10.591</td> <td> 0.000</td> <td>    0.055</td> <td>    0.080</td>\n",
       "</tr>\n",
       "<tr>\n",
       "  <th>cigsPerDay</th> <td>    0.0255</td> <td>    0.005</td> <td>    4.803</td> <td> 0.000</td> <td>    0.015</td> <td>    0.036</td>\n",
       "</tr>\n",
       "<tr>\n",
       "  <th>sysBP</th>      <td>    0.0096</td> <td>    0.001</td> <td>    8.440</td> <td> 0.000</td> <td>    0.007</td> <td>    0.012</td>\n",
       "</tr>\n",
       "<tr>\n",
       "  <th>glucose</th>    <td>    0.0097</td> <td>    0.003</td> <td>    3.750</td> <td> 0.000</td> <td>    0.005</td> <td>    0.015</td>\n",
       "</tr>\n",
       "</table>"
      ],
      "text/plain": [
       "<class 'statsmodels.iolib.summary.Summary'>\n",
       "\"\"\"\n",
       "                           Logit Regression Results                           \n",
       "==============================================================================\n",
       "Dep. Variable:             TenYearCHD   No. Observations:                 3658\n",
       "Model:                          Logit   Df Residuals:                     3652\n",
       "Method:                           MLE   Df Model:                            5\n",
       "Date:                Wed, 03 Aug 2022   Pseudo R-squ.:                  0.1119\n",
       "Time:                        00:50:22   Log-Likelihood:                -1385.9\n",
       "converged:                       True   LL-Null:                       -1560.6\n",
       "Covariance Type:            nonrobust   LLR p-value:                 2.417e-73\n",
       "==============================================================================\n",
       "                 coef    std err          z      P>|z|      [0.025      0.975]\n",
       "------------------------------------------------------------------------------\n",
       "const         -4.7474      0.201    -23.649      0.000      -5.141      -4.354\n",
       "male           0.5235      0.105      4.976      0.000       0.317       0.730\n",
       "age            0.0678      0.006     10.591      0.000       0.055       0.080\n",
       "cigsPerDay     0.0255      0.005      4.803      0.000       0.015       0.036\n",
       "sysBP          0.0096      0.001      8.440      0.000       0.007       0.012\n",
       "glucose        0.0097      0.003      3.750      0.000       0.005       0.015\n",
       "==============================================================================\n",
       "\"\"\""
      ]
     },
     "execution_count": 28,
     "metadata": {},
     "output_type": "execute_result"
    }
   ],
   "source": [
    "back_res = back_feat_elem()\n",
    "back_res.summary()"
   ]
  },
  {
   "cell_type": "code",
   "execution_count": 29,
   "metadata": {},
   "outputs": [
    {
     "data": {
      "text/plain": [
       "['male', 'age', 'cigsPerDay', 'sysBP', 'glucose']"
      ]
     },
     "execution_count": 29,
     "metadata": {},
     "output_type": "execute_result"
    }
   ],
   "source": [
    "ind = list(back_res.params.index)\n",
    "ind.remove('const')\n",
    "# To Insert Imp Cols that I like.\n",
    "# ind.extend([''])\n",
    "ind"
   ]
  },
  {
   "cell_type": "code",
   "execution_count": 30,
   "metadata": {},
   "outputs": [
    {
     "data": {
      "text/html": [
       "<div>\n",
       "<style scoped>\n",
       "    .dataframe tbody tr th:only-of-type {\n",
       "        vertical-align: middle;\n",
       "    }\n",
       "\n",
       "    .dataframe tbody tr th {\n",
       "        vertical-align: top;\n",
       "    }\n",
       "\n",
       "    .dataframe thead th {\n",
       "        text-align: right;\n",
       "    }\n",
       "</style>\n",
       "<table border=\"1\" class=\"dataframe\">\n",
       "  <thead>\n",
       "    <tr style=\"text-align: right;\">\n",
       "      <th></th>\n",
       "      <th>male</th>\n",
       "      <th>age</th>\n",
       "      <th>cigsPerDay</th>\n",
       "      <th>sysBP</th>\n",
       "      <th>glucose</th>\n",
       "      <th>TenYearCHD</th>\n",
       "    </tr>\n",
       "  </thead>\n",
       "  <tbody>\n",
       "    <tr>\n",
       "      <th>0</th>\n",
       "      <td>1</td>\n",
       "      <td>39</td>\n",
       "      <td>0.0</td>\n",
       "      <td>106.0</td>\n",
       "      <td>77.0</td>\n",
       "      <td>0</td>\n",
       "    </tr>\n",
       "    <tr>\n",
       "      <th>1</th>\n",
       "      <td>0</td>\n",
       "      <td>46</td>\n",
       "      <td>0.0</td>\n",
       "      <td>121.0</td>\n",
       "      <td>76.0</td>\n",
       "      <td>0</td>\n",
       "    </tr>\n",
       "    <tr>\n",
       "      <th>2</th>\n",
       "      <td>1</td>\n",
       "      <td>48</td>\n",
       "      <td>20.0</td>\n",
       "      <td>127.5</td>\n",
       "      <td>70.0</td>\n",
       "      <td>0</td>\n",
       "    </tr>\n",
       "    <tr>\n",
       "      <th>3</th>\n",
       "      <td>0</td>\n",
       "      <td>61</td>\n",
       "      <td>30.0</td>\n",
       "      <td>150.0</td>\n",
       "      <td>103.0</td>\n",
       "      <td>1</td>\n",
       "    </tr>\n",
       "    <tr>\n",
       "      <th>4</th>\n",
       "      <td>0</td>\n",
       "      <td>46</td>\n",
       "      <td>23.0</td>\n",
       "      <td>130.0</td>\n",
       "      <td>85.0</td>\n",
       "      <td>0</td>\n",
       "    </tr>\n",
       "  </tbody>\n",
       "</table>\n",
       "</div>"
      ],
      "text/plain": [
       "  male  age  cigsPerDay  sysBP  glucose  TenYearCHD\n",
       "0    1   39         0.0  106.0     77.0           0\n",
       "1    0   46         0.0  121.0     76.0           0\n",
       "2    1   48        20.0  127.5     70.0           0\n",
       "3    0   61        30.0  150.0    103.0           1\n",
       "4    0   46        23.0  130.0     85.0           0"
      ]
     },
     "execution_count": 30,
     "metadata": {},
     "output_type": "execute_result"
    }
   ],
   "source": [
    "new_x = dfp[ind]\n",
    "new_y = dfp.TenYearCHD\n",
    "new_df = pd.concat([new_x,new_y], axis=1)\n",
    "new_df.head()"
   ]
  },
  {
   "cell_type": "code",
   "execution_count": 31,
   "metadata": {},
   "outputs": [],
   "source": [
    "params_lg = {\n",
    "    'penalty': ['l1', 'l2','elasticnet'],\n",
    "    'tol': [0.1, 0.01],\n",
    "    'C': [0.1, 0.01],\n",
    "    'solver': ['newton-cg', 'lbfgs', 'liblinear', 'sag', 'saga'],\n",
    "    'max_iter': [10, 100],\n",
    "    'multi_class': ['auto', 'ovr','multinomial'],\n",
    "    'n_jobs': [3,4],\n",
    "}"
   ]
  },
  {
   "cell_type": "code",
   "execution_count": 32,
   "metadata": {},
   "outputs": [
    {
     "data": {
      "image/png": "[encoded data removed]",
      "text/plain": [
       "<Figure size 432x288 with 2 Axes>"
      ]
     },
     "metadata": {
      "needs_background": "light"
     },
     "output_type": "display_data"
    },
    {
     "name": "stdout",
     "output_type": "stream",
     "text": [
      "Sensitivity:  0.6996699669966997\n",
      "Specificity:  0.6488188976377953\n",
      "Precision:  0.6553323029366306\n",
      "Accuracy:  0.6736502820306205\n"
     ]
    }
   ],
   "source": [
    "mod_lg_o, acc_lg_o = rand_search(model = LogisticRegression(), params =  params_lg, samp='o', df = dfp, cm='yes')"
   ]
  },
  {
   "cell_type": "code",
   "execution_count": 33,
   "metadata": {},
   "outputs": [
    {
     "data": {
      "image/png": "[encoded data removed]",
      "text/plain": [
       "<Figure size 432x288 with 2 Axes>"
      ]
     },
     "metadata": {
      "needs_background": "light"
     },
     "output_type": "display_data"
    },
    {
     "name": "stdout",
     "output_type": "stream",
     "text": [
      "Sensitivity:  0.6765676567656765\n",
      "Specificity:  0.6677165354330709\n",
      "Precision:  0.6602254428341385\n",
      "Accuracy:  0.6720386784850927\n"
     ]
    }
   ],
   "source": [
    "mod_lg_n, acc_lg_n = rand_search(model = LogisticRegression(), params =  params_lg, samp='o', df = new_df, cm='yes')"
   ]
  },
  {
   "cell_type": "code",
   "execution_count": 34,
   "metadata": {},
   "outputs": [
    {
     "data": {
      "image/png": "[encoded data removed]",
      "text/plain": [
       "<Figure size 432x288 with 2 Axes>"
      ]
     },
     "metadata": {
      "needs_background": "light"
     },
     "output_type": "display_data"
    },
    {
     "name": "stdout",
     "output_type": "stream",
     "text": [
      "Sensitivity:  0.6765676567656765\n",
      "Specificity:  0.6692913385826772\n",
      "Precision:  0.6612903225806451\n",
      "Accuracy:  0.6728444802578566\n"
     ]
    }
   ],
   "source": [
    "mod_lg_n1, acc_lg_n1 = rand_search(model = LogisticRegression(), params =  params_lg, samp='o', df = new_df, cm='yes')"
   ]
  },
  {
   "cell_type": "markdown",
   "metadata": {},
   "source": [
    "The Accuracy is very low, So lets try other models."
   ]
  },
  {
   "cell_type": "markdown",
   "metadata": {},
   "source": [
    "##### 2: Decision Tree Classifier"
   ]
  },
  {
   "cell_type": "code",
   "execution_count": 35,
   "metadata": {},
   "outputs": [
    {
     "data": {
      "text/plain": [
       "CategoricalDtype(categories=[0, 1], ordered=False)"
      ]
     },
     "execution_count": 35,
     "metadata": {},
     "output_type": "execute_result"
    }
   ],
   "source": [
    "new_df.TenYearCHD = new_df.TenYearCHD.astype('category')\n",
    "new_df.TenYearCHD.dtype"
   ]
  },
  {
   "cell_type": "code",
   "execution_count": 36,
   "metadata": {},
   "outputs": [],
   "source": [
    "params_dt = {\n",
    "    'criterion': ['gini','entropy', 'log_loss'],\n",
    "    'splitter': ['best', 'random'],\n",
    "    'max_depth': [3, 6, 9],\n",
    "    'min_samples_leaf': [5, 8, 11],\n",
    "    'max_features': ['sqrt', 'log2'],\n",
    "}"
   ]
  },
  {
   "cell_type": "code",
   "execution_count": 37,
   "metadata": {},
   "outputs": [
    {
     "data": {
      "image/png": "[encoded data removed]",
      "text/plain": [
       "<Figure size 432x288 with 2 Axes>"
      ]
     },
     "metadata": {
      "needs_background": "light"
     },
     "output_type": "display_data"
    },
    {
     "name": "stdout",
     "output_type": "stream",
     "text": [
      "Sensitivity:  0.8036303630363036\n",
      "Specificity:  0.7984251968503937\n",
      "Precision:  0.791869918699187\n",
      "Accuracy:  0.8009669621273167\n"
     ]
    }
   ],
   "source": [
    "mod_dt_o, acc_dt_o = rand_search(model = DecisionTreeClassifier(), params = params_dt, samp = 'o', df = dfp, cm='yes')"
   ]
  },
  {
   "cell_type": "code",
   "execution_count": 38,
   "metadata": {},
   "outputs": [
    {
     "data": {
      "image/png": "[encoded data removed]",
      "text/plain": [
       "<Figure size 432x288 with 2 Axes>"
      ]
     },
     "metadata": {
      "needs_background": "light"
     },
     "output_type": "display_data"
    },
    {
     "name": "stdout",
     "output_type": "stream",
     "text": [
      "Sensitivity:  0.7376237623762376\n",
      "Specificity:  0.7826771653543307\n",
      "Precision:  0.764102564102564\n",
      "Accuracy:  0.7606768734891217\n"
     ]
    }
   ],
   "source": [
    "mod_dt_n, acc_dt_n = rand_search(model = DecisionTreeClassifier(), params = params_dt, df = new_df, samp = 'o', cm='yes')"
   ]
  },
  {
   "cell_type": "markdown",
   "metadata": {},
   "source": [
    "##### 3: KNN Classification"
   ]
  },
  {
   "cell_type": "code",
   "execution_count": 39,
   "metadata": {},
   "outputs": [],
   "source": [
    "params_knn = {\n",
    "    'n_neighbors': [1, 3, 5, 7, 9, 11],\n",
    "    'weights': ['uniform', 'distance'],\n",
    "    'n_jobs': [-1],\n",
    "    'p':[0,1,2,i]\n",
    "}"
   ]
  },
  {
   "cell_type": "code",
   "execution_count": 40,
   "metadata": {},
   "outputs": [
    {
     "data": {
      "image/png": "[encoded data removed]",
      "text/plain": [
       "<Figure size 432x288 with 2 Axes>"
      ]
     },
     "metadata": {
      "needs_background": "light"
     },
     "output_type": "display_data"
    },
    {
     "name": "stdout",
     "output_type": "stream",
     "text": [
      "Sensitivity:  0.9801980198019802\n",
      "Specificity:  0.84251968503937\n",
      "Precision:  0.8559077809798271\n",
      "Accuracy:  0.9097502014504432\n"
     ]
    }
   ],
   "source": [
    "mod_knn_o, acc_knn_o = rand_search(model = KNeighborsClassifier(), params = params_knn, df = dfp, cm='yes', samp = 'o')"
   ]
  },
  {
   "cell_type": "code",
   "execution_count": 41,
   "metadata": {},
   "outputs": [
    {
     "data": {
      "image/png": "[encoded data removed]",
      "text/plain": [
       "<Figure size 432x288 with 2 Axes>"
      ]
     },
     "metadata": {
      "needs_background": "light"
     },
     "output_type": "display_data"
    },
    {
     "name": "stdout",
     "output_type": "stream",
     "text": [
      "Sensitivity:  0.9405940594059405\n",
      "Specificity:  0.815748031496063\n",
      "Precision:  0.8296943231441049\n",
      "Accuracy:  0.8767123287671232\n"
     ]
    }
   ],
   "source": [
    "mod_knn_n, acc_knn_n = rand_search(model = KNeighborsClassifier(), params = params_knn, df = new_df, cm='yes', samp = 'o')"
   ]
  },
  {
   "cell_type": "markdown",
   "metadata": {},
   "source": [
    "##### 4: SVC"
   ]
  },
  {
   "cell_type": "code",
   "execution_count": 42,
   "metadata": {},
   "outputs": [],
   "source": [
    "params_svc = {\n",
    "    'C': [0.1, 1, 10, 15, 20],\n",
    "    'kernel': ['linear', 'poly', 'rbf', 'sigmoid'],\n",
    "    'gamma': ['scale', 'auto'],\n",
    "    'decision_function_shape': ['ovo','ovr']\n",
    "}"
   ]
  },
  {
   "cell_type": "code",
   "execution_count": 43,
   "metadata": {},
   "outputs": [
    {
     "data": {
      "image/png": "[encoded data removed]",
      "text/plain": [
       "<Figure size 432x288 with 2 Axes>"
      ]
     },
     "metadata": {
      "needs_background": "light"
     },
     "output_type": "display_data"
    },
    {
     "name": "stdout",
     "output_type": "stream",
     "text": [
      "Sensitivity:  0.8135313531353136\n",
      "Specificity:  0.8913385826771654\n",
      "Precision:  0.8772241992882562\n",
      "Accuracy:  0.8533440773569702\n"
     ]
    }
   ],
   "source": [
    "mod_svc_o, svc_acc_o = rand_search(model = SVC(), params = params_svc, samp = 'o', df = dfp, encod= 'd', cm='yes')"
   ]
  },
  {
   "cell_type": "code",
   "execution_count": 44,
   "metadata": {},
   "outputs": [
    {
     "data": {
      "image/png": "[encoded data removed]",
      "text/plain": [
       "<Figure size 432x288 with 2 Axes>"
      ]
     },
     "metadata": {
      "needs_background": "light"
     },
     "output_type": "display_data"
    },
    {
     "name": "stdout",
     "output_type": "stream",
     "text": [
      "Sensitivity:  0.7376237623762376\n",
      "Specificity:  0.7937007874015748\n",
      "Precision:  0.773356401384083\n",
      "Accuracy:  0.7663174858984689\n"
     ]
    }
   ],
   "source": [
    "mod_svc_n, svc_acc_n = rand_search(model = SVC(), params = params_svc, samp = 'o', df = new_df, encod= 'd', cm='yes')"
   ]
  },
  {
   "cell_type": "markdown",
   "metadata": {},
   "source": [
    "##### 5: Neural Networks"
   ]
  },
  {
   "cell_type": "code",
   "execution_count": 45,
   "metadata": {},
   "outputs": [],
   "source": [
    "# To be done in the future"
   ]
  },
  {
   "cell_type": "markdown",
   "metadata": {},
   "source": [
    "##### 6: Complex SVM"
   ]
  },
  {
   "cell_type": "code",
   "execution_count": 46,
   "metadata": {},
   "outputs": [],
   "source": [
    "# To be done in the future"
   ]
  },
  {
   "cell_type": "markdown",
   "metadata": {},
   "source": [
    "##### 7: Complex Neural Networks "
   ]
  },
  {
   "cell_type": "code",
   "execution_count": 47,
   "metadata": {},
   "outputs": [],
   "source": [
    "# To be done in the future"
   ]
  },
  {
   "cell_type": "markdown",
   "metadata": {},
   "source": [
    "##### 8: Random Forest Classifier"
   ]
  },
  {
   "cell_type": "markdown",
   "metadata": {},
   "source": [
    "Using GridSearchCV for Random Forest Classifier"
   ]
  },
  {
   "cell_type": "code",
   "execution_count": 48,
   "metadata": {},
   "outputs": [],
   "source": [
    "rf_params = {\n",
    "    'n_estimators': [10, 50, 100, 150, 200],\n",
    "    'criterion': ['gini', 'entropy', 'log_loss'],\n",
    "    'max_depth': [10, 15, 20, 25, 40],\n",
    "    'max_features': ['sqrt', 'log2'],\n",
    "    'bootstrap': [True, False],\n",
    "    'oob_score': [True],\n",
    "    'n_jobs': [3],\n",
    "}"
   ]
  },
  {
   "cell_type": "code",
   "execution_count": 49,
   "metadata": {},
   "outputs": [
    {
     "data": {
      "image/png": "[encoded data removed]",
      "text/plain": [
       "<Figure size 432x288 with 2 Axes>"
      ]
     },
     "metadata": {
      "needs_background": "light"
     },
     "output_type": "display_data"
    },
    {
     "name": "stdout",
     "output_type": "stream",
     "text": [
      "Sensitivity:  0.8432343234323433\n",
      "Specificity:  0.9291338582677166\n",
      "Precision:  0.9190647482014388\n",
      "Accuracy:  0.887187751813054\n"
     ]
    }
   ],
   "source": [
    "model_rf_o, acc_rf_o = rand_search(model=RandomForestClassifier(), params=rf_params, df = dfp, samp='o', cm='yes')"
   ]
  },
  {
   "cell_type": "code",
   "execution_count": 50,
   "metadata": {},
   "outputs": [
    {
     "data": {
      "image/png": "[encoded data removed]",
      "text/plain": [
       "<Figure size 432x288 with 2 Axes>"
      ]
     },
     "metadata": {
      "needs_background": "light"
     },
     "output_type": "display_data"
    },
    {
     "name": "stdout",
     "output_type": "stream",
     "text": [
      "Sensitivity:  0.8844884488448845\n",
      "Specificity:  0.9086614173228347\n",
      "Precision:  0.9023569023569024\n",
      "Accuracy:  0.8968573730862208\n"
     ]
    }
   ],
   "source": [
    "model_rf_n, acc_rf_n = rand_search(model=RandomForestClassifier(), params=rf_params, df = new_df, samp='o', cm='yes')"
   ]
  },
  {
   "cell_type": "markdown",
   "metadata": {},
   "source": [
    "In Random Forest, the old DataFrame (dfp) is slightly better than the new one."
   ]
  },
  {
   "cell_type": "markdown",
   "metadata": {},
   "source": [
    "##### 9: BaggingClassifier"
   ]
  },
  {
   "cell_type": "code",
   "execution_count": 51,
   "metadata": {},
   "outputs": [],
   "source": [
    "new_models = [mod_dt_n, mod_knn_n, mod_lg_n, mod_svc_n, model_rf_n] # Models Trained on New Data\n",
    "old_models = [mod_dt_o, mod_knn_o, mod_lg_o, mod_svc_o, model_rf_o] # Models Trained on Old Data"
   ]
  },
  {
   "cell_type": "code",
   "execution_count": 52,
   "metadata": {},
   "outputs": [],
   "source": [
    "params_bg_o = {\n",
    "    'base_estimator': old_models,\n",
    "    'n_estimators': [10, 20, 30, 40, 50],\n",
    "    'n_jobs':[-1]\n",
    "}"
   ]
  },
  {
   "cell_type": "code",
   "execution_count": 53,
   "metadata": {},
   "outputs": [
    {
     "data": {
      "image/png": "[encoded data removed]",
      "text/plain": [
       "<Figure size 432x288 with 2 Axes>"
      ]
     },
     "metadata": {
      "needs_background": "light"
     },
     "output_type": "display_data"
    },
    {
     "name": "stdout",
     "output_type": "stream",
     "text": [
      "Sensitivity:  0.9801980198019802\n",
      "Specificity:  0.8440944881889764\n",
      "Precision:  0.8571428571428571\n",
      "Accuracy:  0.9105560032232071\n"
     ]
    }
   ],
   "source": [
    "mod_bg_o, acc_bg_o = rand_search(model = BaggingClassifier(), params = params_bg_o, df = dfp, encod = 'd', cm='yes', samp = 'o')"
   ]
  },
  {
   "cell_type": "code",
   "execution_count": 54,
   "metadata": {},
   "outputs": [],
   "source": [
    "params_bg_n = {\n",
    "    'base_estimator': new_models,\n",
    "    'n_estimators': [10, 20, 30, 40, 50],\n",
    "    'n_jobs':[-1]\n",
    "}"
   ]
  },
  {
   "cell_type": "code",
   "execution_count": 55,
   "metadata": {},
   "outputs": [
    {
     "data": {
      "image/png": "[encoded data removed]",
      "text/plain": [
       "<Figure size 432x288 with 2 Axes>"
      ]
     },
     "metadata": {
      "needs_background": "light"
     },
     "output_type": "display_data"
    },
    {
     "name": "stdout",
     "output_type": "stream",
     "text": [
      "Sensitivity:  0.8696369636963697\n",
      "Specificity:  0.9007874015748032\n",
      "Precision:  0.8932203389830509\n",
      "Accuracy:  0.8855761482675262\n"
     ]
    }
   ],
   "source": [
    "mod_bg_n, acc_bg_n = rand_search(model = BaggingClassifier(), params = params_bg_n, df = new_df, encod = 'd', cm='yes', samp='o')"
   ]
  }
 ],
 "metadata": {
  "kernelspec": {
   "display_name": "Python 3.10.5 64-bit",
   "language": "python",
   "name": "python3"
  },
  "language_info": {
   "codemirror_mode": {
    "name": "ipython",
    "version": 3
   },
   "file_extension": ".py",
   "mimetype": "text/x-python",
   "name": "python",
   "nbconvert_exporter": "python",
   "pygments_lexer": "ipython3",
   "version": "3.10.5"
  },
  "orig_nbformat": 4,
  "vscode": {
   "interpreter": {
    "hash": "b6213e0af081d56db034f795ff49d96980936e2ae540dda57fc6c3cbea6a5fc9"
   }
  }
 },
 "nbformat": 4,
 "nbformat_minor": 2
}
